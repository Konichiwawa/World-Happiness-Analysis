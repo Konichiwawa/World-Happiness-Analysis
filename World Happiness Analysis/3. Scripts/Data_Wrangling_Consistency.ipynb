{
 "cells": [
  {
   "cell_type": "markdown",
   "metadata": {},
   "source": [
    "# <center> World Happiness Analysis: Data Wrangling & Consistency Checks </center>"
   ]
  },
  {
   "cell_type": "markdown",
   "metadata": {},
   "source": [
    "## Contents:\n",
    "### 1. Import libraties & data\n",
    "### 2. Data wrangling\n",
    "### 3. Data consistency checks \n",
    "### 4. Append datasets\n",
    "### 5. Export data"
   ]
  },
  {
   "cell_type": "markdown",
   "metadata": {},
   "source": [
    "## 01. Import libraries & data"
   ]
  },
  {
   "cell_type": "code",
   "execution_count": 2,
   "metadata": {},
   "outputs": [],
   "source": [
    "import pandas as pd\n",
    "import numpy as np\n",
    "import os\n",
    "import seaborn as sns\n",
    "import matplotlib.pyplot as plt\n",
    "import scipy "
   ]
  },
  {
   "cell_type": "code",
   "execution_count": 3,
   "metadata": {},
   "outputs": [],
   "source": [
    "path = r'C:\\Users\\thang\\Desktop\\Data Analytics\\Data Analytics Immersion\\Final Project\\World Happiness Analysis\\2. Data'"
   ]
  },
  {
   "cell_type": "code",
   "execution_count": 4,
   "metadata": {},
   "outputs": [],
   "source": [
    "data_2015 = pd.read_csv(os.path.join(path, 'Original', '2015.csv'), index_col = False)\n",
    "data_2016 = pd.read_csv(os.path.join(path, 'Original', '2016.csv'), index_col = False)\n",
    "data_2017 = pd.read_csv(os.path.join(path, 'Original', '2017.csv'), index_col = False)\n",
    "data_2018 = pd.read_csv(os.path.join(path, 'Original', '2018.csv'), index_col = False)\n",
    "data_2019 = pd.read_csv(os.path.join(path, 'Original', '2019.csv'), index_col = False)"
   ]
  },
  {
   "cell_type": "markdown",
   "metadata": {},
   "source": [
    "## 02. Data Wrangling"
   ]
  },
  {
   "cell_type": "markdown",
   "metadata": {},
   "source": [
    "### 2015 Data"
   ]
  },
  {
   "cell_type": "code",
   "execution_count": 5,
   "metadata": {},
   "outputs": [
    {
     "data": {
      "text/html": [
       "<div>\n",
       "<style scoped>\n",
       "    .dataframe tbody tr th:only-of-type {\n",
       "        vertical-align: middle;\n",
       "    }\n",
       "\n",
       "    .dataframe tbody tr th {\n",
       "        vertical-align: top;\n",
       "    }\n",
       "\n",
       "    .dataframe thead th {\n",
       "        text-align: right;\n",
       "    }\n",
       "</style>\n",
       "<table border=\"1\" class=\"dataframe\">\n",
       "  <thead>\n",
       "    <tr style=\"text-align: right;\">\n",
       "      <th></th>\n",
       "      <th>Country</th>\n",
       "      <th>Region</th>\n",
       "      <th>Happiness Rank</th>\n",
       "      <th>Happiness Score</th>\n",
       "      <th>Standard Error</th>\n",
       "      <th>Economy (GDP per Capita)</th>\n",
       "      <th>Family</th>\n",
       "      <th>Health (Life Expectancy)</th>\n",
       "      <th>Freedom</th>\n",
       "      <th>Trust (Government Corruption)</th>\n",
       "      <th>Generosity</th>\n",
       "      <th>Dystopia Residual</th>\n",
       "    </tr>\n",
       "  </thead>\n",
       "  <tbody>\n",
       "    <tr>\n",
       "      <th>0</th>\n",
       "      <td>Switzerland</td>\n",
       "      <td>Western Europe</td>\n",
       "      <td>1</td>\n",
       "      <td>7.587</td>\n",
       "      <td>0.03411</td>\n",
       "      <td>1.39651</td>\n",
       "      <td>1.34951</td>\n",
       "      <td>0.94143</td>\n",
       "      <td>0.66557</td>\n",
       "      <td>0.41978</td>\n",
       "      <td>0.29678</td>\n",
       "      <td>2.51738</td>\n",
       "    </tr>\n",
       "    <tr>\n",
       "      <th>1</th>\n",
       "      <td>Iceland</td>\n",
       "      <td>Western Europe</td>\n",
       "      <td>2</td>\n",
       "      <td>7.561</td>\n",
       "      <td>0.04884</td>\n",
       "      <td>1.30232</td>\n",
       "      <td>1.40223</td>\n",
       "      <td>0.94784</td>\n",
       "      <td>0.62877</td>\n",
       "      <td>0.14145</td>\n",
       "      <td>0.43630</td>\n",
       "      <td>2.70201</td>\n",
       "    </tr>\n",
       "    <tr>\n",
       "      <th>2</th>\n",
       "      <td>Denmark</td>\n",
       "      <td>Western Europe</td>\n",
       "      <td>3</td>\n",
       "      <td>7.527</td>\n",
       "      <td>0.03328</td>\n",
       "      <td>1.32548</td>\n",
       "      <td>1.36058</td>\n",
       "      <td>0.87464</td>\n",
       "      <td>0.64938</td>\n",
       "      <td>0.48357</td>\n",
       "      <td>0.34139</td>\n",
       "      <td>2.49204</td>\n",
       "    </tr>\n",
       "    <tr>\n",
       "      <th>3</th>\n",
       "      <td>Norway</td>\n",
       "      <td>Western Europe</td>\n",
       "      <td>4</td>\n",
       "      <td>7.522</td>\n",
       "      <td>0.03880</td>\n",
       "      <td>1.45900</td>\n",
       "      <td>1.33095</td>\n",
       "      <td>0.88521</td>\n",
       "      <td>0.66973</td>\n",
       "      <td>0.36503</td>\n",
       "      <td>0.34699</td>\n",
       "      <td>2.46531</td>\n",
       "    </tr>\n",
       "    <tr>\n",
       "      <th>4</th>\n",
       "      <td>Canada</td>\n",
       "      <td>North America</td>\n",
       "      <td>5</td>\n",
       "      <td>7.427</td>\n",
       "      <td>0.03553</td>\n",
       "      <td>1.32629</td>\n",
       "      <td>1.32261</td>\n",
       "      <td>0.90563</td>\n",
       "      <td>0.63297</td>\n",
       "      <td>0.32957</td>\n",
       "      <td>0.45811</td>\n",
       "      <td>2.45176</td>\n",
       "    </tr>\n",
       "  </tbody>\n",
       "</table>\n",
       "</div>"
      ],
      "text/plain": [
       "       Country          Region  Happiness Rank  Happiness Score  \\\n",
       "0  Switzerland  Western Europe               1            7.587   \n",
       "1      Iceland  Western Europe               2            7.561   \n",
       "2      Denmark  Western Europe               3            7.527   \n",
       "3       Norway  Western Europe               4            7.522   \n",
       "4       Canada   North America               5            7.427   \n",
       "\n",
       "   Standard Error  Economy (GDP per Capita)   Family  \\\n",
       "0         0.03411                   1.39651  1.34951   \n",
       "1         0.04884                   1.30232  1.40223   \n",
       "2         0.03328                   1.32548  1.36058   \n",
       "3         0.03880                   1.45900  1.33095   \n",
       "4         0.03553                   1.32629  1.32261   \n",
       "\n",
       "   Health (Life Expectancy)  Freedom  Trust (Government Corruption)  \\\n",
       "0                   0.94143  0.66557                        0.41978   \n",
       "1                   0.94784  0.62877                        0.14145   \n",
       "2                   0.87464  0.64938                        0.48357   \n",
       "3                   0.88521  0.66973                        0.36503   \n",
       "4                   0.90563  0.63297                        0.32957   \n",
       "\n",
       "   Generosity  Dystopia Residual  \n",
       "0     0.29678            2.51738  \n",
       "1     0.43630            2.70201  \n",
       "2     0.34139            2.49204  \n",
       "3     0.34699            2.46531  \n",
       "4     0.45811            2.45176  "
      ]
     },
     "execution_count": 5,
     "metadata": {},
     "output_type": "execute_result"
    }
   ],
   "source": [
    "data_2015.head()"
   ]
  },
  {
   "cell_type": "code",
   "execution_count": 6,
   "metadata": {},
   "outputs": [],
   "source": [
    "# rename columns\n",
    "data_2015.rename(columns = {'Economy (GDP per Capita)':'GDP','Health (Life Expectancy)':'Life Expectancy','Trust (Government Corruption)':'Corruption'}, inplace = True)"
   ]
  },
  {
   "cell_type": "code",
   "execution_count": 7,
   "metadata": {},
   "outputs": [
    {
     "data": {
      "text/plain": [
       "(158, 12)"
      ]
     },
     "execution_count": 7,
     "metadata": {},
     "output_type": "execute_result"
    }
   ],
   "source": [
    "# checking dimensions\n",
    "data_2015.shape"
   ]
  },
  {
   "cell_type": "code",
   "execution_count": 8,
   "metadata": {},
   "outputs": [
    {
     "data": {
      "text/html": [
       "<div>\n",
       "<style scoped>\n",
       "    .dataframe tbody tr th:only-of-type {\n",
       "        vertical-align: middle;\n",
       "    }\n",
       "\n",
       "    .dataframe tbody tr th {\n",
       "        vertical-align: top;\n",
       "    }\n",
       "\n",
       "    .dataframe thead th {\n",
       "        text-align: right;\n",
       "    }\n",
       "</style>\n",
       "<table border=\"1\" class=\"dataframe\">\n",
       "  <thead>\n",
       "    <tr style=\"text-align: right;\">\n",
       "      <th></th>\n",
       "      <th>Happiness Rank</th>\n",
       "      <th>Happiness Score</th>\n",
       "      <th>Standard Error</th>\n",
       "      <th>GDP</th>\n",
       "      <th>Family</th>\n",
       "      <th>Life Expectancy</th>\n",
       "      <th>Freedom</th>\n",
       "      <th>Corruption</th>\n",
       "      <th>Generosity</th>\n",
       "      <th>Dystopia Residual</th>\n",
       "    </tr>\n",
       "  </thead>\n",
       "  <tbody>\n",
       "    <tr>\n",
       "      <th>count</th>\n",
       "      <td>158.000000</td>\n",
       "      <td>158.000000</td>\n",
       "      <td>158.000000</td>\n",
       "      <td>158.000000</td>\n",
       "      <td>158.000000</td>\n",
       "      <td>158.000000</td>\n",
       "      <td>158.000000</td>\n",
       "      <td>158.000000</td>\n",
       "      <td>158.000000</td>\n",
       "      <td>158.000000</td>\n",
       "    </tr>\n",
       "    <tr>\n",
       "      <th>mean</th>\n",
       "      <td>79.493671</td>\n",
       "      <td>5.375734</td>\n",
       "      <td>0.047885</td>\n",
       "      <td>0.846137</td>\n",
       "      <td>0.991046</td>\n",
       "      <td>0.630259</td>\n",
       "      <td>0.428615</td>\n",
       "      <td>0.143422</td>\n",
       "      <td>0.237296</td>\n",
       "      <td>2.098977</td>\n",
       "    </tr>\n",
       "    <tr>\n",
       "      <th>std</th>\n",
       "      <td>45.754363</td>\n",
       "      <td>1.145010</td>\n",
       "      <td>0.017146</td>\n",
       "      <td>0.403121</td>\n",
       "      <td>0.272369</td>\n",
       "      <td>0.247078</td>\n",
       "      <td>0.150693</td>\n",
       "      <td>0.120034</td>\n",
       "      <td>0.126685</td>\n",
       "      <td>0.553550</td>\n",
       "    </tr>\n",
       "    <tr>\n",
       "      <th>min</th>\n",
       "      <td>1.000000</td>\n",
       "      <td>2.839000</td>\n",
       "      <td>0.018480</td>\n",
       "      <td>0.000000</td>\n",
       "      <td>0.000000</td>\n",
       "      <td>0.000000</td>\n",
       "      <td>0.000000</td>\n",
       "      <td>0.000000</td>\n",
       "      <td>0.000000</td>\n",
       "      <td>0.328580</td>\n",
       "    </tr>\n",
       "    <tr>\n",
       "      <th>25%</th>\n",
       "      <td>40.250000</td>\n",
       "      <td>4.526000</td>\n",
       "      <td>0.037268</td>\n",
       "      <td>0.545808</td>\n",
       "      <td>0.856823</td>\n",
       "      <td>0.439185</td>\n",
       "      <td>0.328330</td>\n",
       "      <td>0.061675</td>\n",
       "      <td>0.150553</td>\n",
       "      <td>1.759410</td>\n",
       "    </tr>\n",
       "    <tr>\n",
       "      <th>50%</th>\n",
       "      <td>79.500000</td>\n",
       "      <td>5.232500</td>\n",
       "      <td>0.043940</td>\n",
       "      <td>0.910245</td>\n",
       "      <td>1.029510</td>\n",
       "      <td>0.696705</td>\n",
       "      <td>0.435515</td>\n",
       "      <td>0.107220</td>\n",
       "      <td>0.216130</td>\n",
       "      <td>2.095415</td>\n",
       "    </tr>\n",
       "    <tr>\n",
       "      <th>75%</th>\n",
       "      <td>118.750000</td>\n",
       "      <td>6.243750</td>\n",
       "      <td>0.052300</td>\n",
       "      <td>1.158448</td>\n",
       "      <td>1.214405</td>\n",
       "      <td>0.811013</td>\n",
       "      <td>0.549092</td>\n",
       "      <td>0.180255</td>\n",
       "      <td>0.309883</td>\n",
       "      <td>2.462415</td>\n",
       "    </tr>\n",
       "    <tr>\n",
       "      <th>max</th>\n",
       "      <td>158.000000</td>\n",
       "      <td>7.587000</td>\n",
       "      <td>0.136930</td>\n",
       "      <td>1.690420</td>\n",
       "      <td>1.402230</td>\n",
       "      <td>1.025250</td>\n",
       "      <td>0.669730</td>\n",
       "      <td>0.551910</td>\n",
       "      <td>0.795880</td>\n",
       "      <td>3.602140</td>\n",
       "    </tr>\n",
       "  </tbody>\n",
       "</table>\n",
       "</div>"
      ],
      "text/plain": [
       "       Happiness Rank  Happiness Score  Standard Error         GDP  \\\n",
       "count      158.000000       158.000000      158.000000  158.000000   \n",
       "mean        79.493671         5.375734        0.047885    0.846137   \n",
       "std         45.754363         1.145010        0.017146    0.403121   \n",
       "min          1.000000         2.839000        0.018480    0.000000   \n",
       "25%         40.250000         4.526000        0.037268    0.545808   \n",
       "50%         79.500000         5.232500        0.043940    0.910245   \n",
       "75%        118.750000         6.243750        0.052300    1.158448   \n",
       "max        158.000000         7.587000        0.136930    1.690420   \n",
       "\n",
       "           Family  Life Expectancy     Freedom  Corruption  Generosity  \\\n",
       "count  158.000000       158.000000  158.000000  158.000000  158.000000   \n",
       "mean     0.991046         0.630259    0.428615    0.143422    0.237296   \n",
       "std      0.272369         0.247078    0.150693    0.120034    0.126685   \n",
       "min      0.000000         0.000000    0.000000    0.000000    0.000000   \n",
       "25%      0.856823         0.439185    0.328330    0.061675    0.150553   \n",
       "50%      1.029510         0.696705    0.435515    0.107220    0.216130   \n",
       "75%      1.214405         0.811013    0.549092    0.180255    0.309883   \n",
       "max      1.402230         1.025250    0.669730    0.551910    0.795880   \n",
       "\n",
       "       Dystopia Residual  \n",
       "count         158.000000  \n",
       "mean            2.098977  \n",
       "std             0.553550  \n",
       "min             0.328580  \n",
       "25%             1.759410  \n",
       "50%             2.095415  \n",
       "75%             2.462415  \n",
       "max             3.602140  "
      ]
     },
     "execution_count": 8,
     "metadata": {},
     "output_type": "execute_result"
    }
   ],
   "source": [
    "# check the descriptive stats\n",
    "data_2015.describe()"
   ]
  },
  {
   "cell_type": "code",
   "execution_count": 9,
   "metadata": {},
   "outputs": [
    {
     "data": {
      "text/plain": [
       "Country               object\n",
       "Region                object\n",
       "Happiness Rank         int64\n",
       "Happiness Score      float64\n",
       "Standard Error       float64\n",
       "GDP                  float64\n",
       "Family               float64\n",
       "Life Expectancy      float64\n",
       "Freedom              float64\n",
       "Corruption           float64\n",
       "Generosity           float64\n",
       "Dystopia Residual    float64\n",
       "dtype: object"
      ]
     },
     "execution_count": 9,
     "metadata": {},
     "output_type": "execute_result"
    }
   ],
   "source": [
    "# check the data types\n",
    "data_2015.dtypes"
   ]
  },
  {
   "cell_type": "markdown",
   "metadata": {},
   "source": [
    "### 2016 Data"
   ]
  },
  {
   "cell_type": "code",
   "execution_count": 10,
   "metadata": {},
   "outputs": [
    {
     "data": {
      "text/html": [
       "<div>\n",
       "<style scoped>\n",
       "    .dataframe tbody tr th:only-of-type {\n",
       "        vertical-align: middle;\n",
       "    }\n",
       "\n",
       "    .dataframe tbody tr th {\n",
       "        vertical-align: top;\n",
       "    }\n",
       "\n",
       "    .dataframe thead th {\n",
       "        text-align: right;\n",
       "    }\n",
       "</style>\n",
       "<table border=\"1\" class=\"dataframe\">\n",
       "  <thead>\n",
       "    <tr style=\"text-align: right;\">\n",
       "      <th></th>\n",
       "      <th>Country</th>\n",
       "      <th>Region</th>\n",
       "      <th>Happiness Rank</th>\n",
       "      <th>Happiness Score</th>\n",
       "      <th>Lower Confidence Interval</th>\n",
       "      <th>Upper Confidence Interval</th>\n",
       "      <th>Economy (GDP per Capita)</th>\n",
       "      <th>Family</th>\n",
       "      <th>Health (Life Expectancy)</th>\n",
       "      <th>Freedom</th>\n",
       "      <th>Trust (Government Corruption)</th>\n",
       "      <th>Generosity</th>\n",
       "      <th>Dystopia Residual</th>\n",
       "    </tr>\n",
       "  </thead>\n",
       "  <tbody>\n",
       "    <tr>\n",
       "      <th>0</th>\n",
       "      <td>Denmark</td>\n",
       "      <td>Western Europe</td>\n",
       "      <td>1</td>\n",
       "      <td>7.526</td>\n",
       "      <td>7.460</td>\n",
       "      <td>7.592</td>\n",
       "      <td>1.44178</td>\n",
       "      <td>1.16374</td>\n",
       "      <td>0.79504</td>\n",
       "      <td>0.57941</td>\n",
       "      <td>0.44453</td>\n",
       "      <td>0.36171</td>\n",
       "      <td>2.73939</td>\n",
       "    </tr>\n",
       "    <tr>\n",
       "      <th>1</th>\n",
       "      <td>Switzerland</td>\n",
       "      <td>Western Europe</td>\n",
       "      <td>2</td>\n",
       "      <td>7.509</td>\n",
       "      <td>7.428</td>\n",
       "      <td>7.590</td>\n",
       "      <td>1.52733</td>\n",
       "      <td>1.14524</td>\n",
       "      <td>0.86303</td>\n",
       "      <td>0.58557</td>\n",
       "      <td>0.41203</td>\n",
       "      <td>0.28083</td>\n",
       "      <td>2.69463</td>\n",
       "    </tr>\n",
       "    <tr>\n",
       "      <th>2</th>\n",
       "      <td>Iceland</td>\n",
       "      <td>Western Europe</td>\n",
       "      <td>3</td>\n",
       "      <td>7.501</td>\n",
       "      <td>7.333</td>\n",
       "      <td>7.669</td>\n",
       "      <td>1.42666</td>\n",
       "      <td>1.18326</td>\n",
       "      <td>0.86733</td>\n",
       "      <td>0.56624</td>\n",
       "      <td>0.14975</td>\n",
       "      <td>0.47678</td>\n",
       "      <td>2.83137</td>\n",
       "    </tr>\n",
       "    <tr>\n",
       "      <th>3</th>\n",
       "      <td>Norway</td>\n",
       "      <td>Western Europe</td>\n",
       "      <td>4</td>\n",
       "      <td>7.498</td>\n",
       "      <td>7.421</td>\n",
       "      <td>7.575</td>\n",
       "      <td>1.57744</td>\n",
       "      <td>1.12690</td>\n",
       "      <td>0.79579</td>\n",
       "      <td>0.59609</td>\n",
       "      <td>0.35776</td>\n",
       "      <td>0.37895</td>\n",
       "      <td>2.66465</td>\n",
       "    </tr>\n",
       "    <tr>\n",
       "      <th>4</th>\n",
       "      <td>Finland</td>\n",
       "      <td>Western Europe</td>\n",
       "      <td>5</td>\n",
       "      <td>7.413</td>\n",
       "      <td>7.351</td>\n",
       "      <td>7.475</td>\n",
       "      <td>1.40598</td>\n",
       "      <td>1.13464</td>\n",
       "      <td>0.81091</td>\n",
       "      <td>0.57104</td>\n",
       "      <td>0.41004</td>\n",
       "      <td>0.25492</td>\n",
       "      <td>2.82596</td>\n",
       "    </tr>\n",
       "  </tbody>\n",
       "</table>\n",
       "</div>"
      ],
      "text/plain": [
       "       Country          Region  Happiness Rank  Happiness Score  \\\n",
       "0      Denmark  Western Europe               1            7.526   \n",
       "1  Switzerland  Western Europe               2            7.509   \n",
       "2      Iceland  Western Europe               3            7.501   \n",
       "3       Norway  Western Europe               4            7.498   \n",
       "4      Finland  Western Europe               5            7.413   \n",
       "\n",
       "   Lower Confidence Interval  Upper Confidence Interval  \\\n",
       "0                      7.460                      7.592   \n",
       "1                      7.428                      7.590   \n",
       "2                      7.333                      7.669   \n",
       "3                      7.421                      7.575   \n",
       "4                      7.351                      7.475   \n",
       "\n",
       "   Economy (GDP per Capita)   Family  Health (Life Expectancy)  Freedom  \\\n",
       "0                   1.44178  1.16374                   0.79504  0.57941   \n",
       "1                   1.52733  1.14524                   0.86303  0.58557   \n",
       "2                   1.42666  1.18326                   0.86733  0.56624   \n",
       "3                   1.57744  1.12690                   0.79579  0.59609   \n",
       "4                   1.40598  1.13464                   0.81091  0.57104   \n",
       "\n",
       "   Trust (Government Corruption)  Generosity  Dystopia Residual  \n",
       "0                        0.44453     0.36171            2.73939  \n",
       "1                        0.41203     0.28083            2.69463  \n",
       "2                        0.14975     0.47678            2.83137  \n",
       "3                        0.35776     0.37895            2.66465  \n",
       "4                        0.41004     0.25492            2.82596  "
      ]
     },
     "execution_count": 10,
     "metadata": {},
     "output_type": "execute_result"
    }
   ],
   "source": [
    "data_2016.head()"
   ]
  },
  {
   "cell_type": "code",
   "execution_count": 11,
   "metadata": {},
   "outputs": [],
   "source": [
    "# rename columns\n",
    "data_2016.rename(columns = {'Economy (GDP per Capita)':'GDP','Health (Life Expectancy)':'Life Expectancy','Trust (Government Corruption)':'Corruption'}, inplace = True)"
   ]
  },
  {
   "cell_type": "code",
   "execution_count": 12,
   "metadata": {},
   "outputs": [
    {
     "data": {
      "text/plain": [
       "(157, 13)"
      ]
     },
     "execution_count": 12,
     "metadata": {},
     "output_type": "execute_result"
    }
   ],
   "source": [
    "# checking dimensions\n",
    "data_2016.shape"
   ]
  },
  {
   "cell_type": "code",
   "execution_count": 13,
   "metadata": {},
   "outputs": [
    {
     "data": {
      "text/html": [
       "<div>\n",
       "<style scoped>\n",
       "    .dataframe tbody tr th:only-of-type {\n",
       "        vertical-align: middle;\n",
       "    }\n",
       "\n",
       "    .dataframe tbody tr th {\n",
       "        vertical-align: top;\n",
       "    }\n",
       "\n",
       "    .dataframe thead th {\n",
       "        text-align: right;\n",
       "    }\n",
       "</style>\n",
       "<table border=\"1\" class=\"dataframe\">\n",
       "  <thead>\n",
       "    <tr style=\"text-align: right;\">\n",
       "      <th></th>\n",
       "      <th>Happiness Rank</th>\n",
       "      <th>Happiness Score</th>\n",
       "      <th>Lower Confidence Interval</th>\n",
       "      <th>Upper Confidence Interval</th>\n",
       "      <th>GDP</th>\n",
       "      <th>Family</th>\n",
       "      <th>Life Expectancy</th>\n",
       "      <th>Freedom</th>\n",
       "      <th>Corruption</th>\n",
       "      <th>Generosity</th>\n",
       "      <th>Dystopia Residual</th>\n",
       "    </tr>\n",
       "  </thead>\n",
       "  <tbody>\n",
       "    <tr>\n",
       "      <th>count</th>\n",
       "      <td>157.000000</td>\n",
       "      <td>157.000000</td>\n",
       "      <td>157.000000</td>\n",
       "      <td>157.000000</td>\n",
       "      <td>157.000000</td>\n",
       "      <td>157.000000</td>\n",
       "      <td>157.000000</td>\n",
       "      <td>157.000000</td>\n",
       "      <td>157.000000</td>\n",
       "      <td>157.000000</td>\n",
       "      <td>157.000000</td>\n",
       "    </tr>\n",
       "    <tr>\n",
       "      <th>mean</th>\n",
       "      <td>78.980892</td>\n",
       "      <td>5.382185</td>\n",
       "      <td>5.282395</td>\n",
       "      <td>5.481975</td>\n",
       "      <td>0.953880</td>\n",
       "      <td>0.793621</td>\n",
       "      <td>0.557619</td>\n",
       "      <td>0.370994</td>\n",
       "      <td>0.137624</td>\n",
       "      <td>0.242635</td>\n",
       "      <td>2.325807</td>\n",
       "    </tr>\n",
       "    <tr>\n",
       "      <th>std</th>\n",
       "      <td>45.466030</td>\n",
       "      <td>1.141674</td>\n",
       "      <td>1.148043</td>\n",
       "      <td>1.136493</td>\n",
       "      <td>0.412595</td>\n",
       "      <td>0.266706</td>\n",
       "      <td>0.229349</td>\n",
       "      <td>0.145507</td>\n",
       "      <td>0.111038</td>\n",
       "      <td>0.133756</td>\n",
       "      <td>0.542220</td>\n",
       "    </tr>\n",
       "    <tr>\n",
       "      <th>min</th>\n",
       "      <td>1.000000</td>\n",
       "      <td>2.905000</td>\n",
       "      <td>2.732000</td>\n",
       "      <td>3.078000</td>\n",
       "      <td>0.000000</td>\n",
       "      <td>0.000000</td>\n",
       "      <td>0.000000</td>\n",
       "      <td>0.000000</td>\n",
       "      <td>0.000000</td>\n",
       "      <td>0.000000</td>\n",
       "      <td>0.817890</td>\n",
       "    </tr>\n",
       "    <tr>\n",
       "      <th>25%</th>\n",
       "      <td>40.000000</td>\n",
       "      <td>4.404000</td>\n",
       "      <td>4.327000</td>\n",
       "      <td>4.465000</td>\n",
       "      <td>0.670240</td>\n",
       "      <td>0.641840</td>\n",
       "      <td>0.382910</td>\n",
       "      <td>0.257480</td>\n",
       "      <td>0.061260</td>\n",
       "      <td>0.154570</td>\n",
       "      <td>2.031710</td>\n",
       "    </tr>\n",
       "    <tr>\n",
       "      <th>50%</th>\n",
       "      <td>79.000000</td>\n",
       "      <td>5.314000</td>\n",
       "      <td>5.237000</td>\n",
       "      <td>5.419000</td>\n",
       "      <td>1.027800</td>\n",
       "      <td>0.841420</td>\n",
       "      <td>0.596590</td>\n",
       "      <td>0.397470</td>\n",
       "      <td>0.105470</td>\n",
       "      <td>0.222450</td>\n",
       "      <td>2.290740</td>\n",
       "    </tr>\n",
       "    <tr>\n",
       "      <th>75%</th>\n",
       "      <td>118.000000</td>\n",
       "      <td>6.269000</td>\n",
       "      <td>6.154000</td>\n",
       "      <td>6.434000</td>\n",
       "      <td>1.279640</td>\n",
       "      <td>1.021520</td>\n",
       "      <td>0.729930</td>\n",
       "      <td>0.484530</td>\n",
       "      <td>0.175540</td>\n",
       "      <td>0.311850</td>\n",
       "      <td>2.664650</td>\n",
       "    </tr>\n",
       "    <tr>\n",
       "      <th>max</th>\n",
       "      <td>157.000000</td>\n",
       "      <td>7.526000</td>\n",
       "      <td>7.460000</td>\n",
       "      <td>7.669000</td>\n",
       "      <td>1.824270</td>\n",
       "      <td>1.183260</td>\n",
       "      <td>0.952770</td>\n",
       "      <td>0.608480</td>\n",
       "      <td>0.505210</td>\n",
       "      <td>0.819710</td>\n",
       "      <td>3.837720</td>\n",
       "    </tr>\n",
       "  </tbody>\n",
       "</table>\n",
       "</div>"
      ],
      "text/plain": [
       "       Happiness Rank  Happiness Score  Lower Confidence Interval  \\\n",
       "count      157.000000       157.000000                 157.000000   \n",
       "mean        78.980892         5.382185                   5.282395   \n",
       "std         45.466030         1.141674                   1.148043   \n",
       "min          1.000000         2.905000                   2.732000   \n",
       "25%         40.000000         4.404000                   4.327000   \n",
       "50%         79.000000         5.314000                   5.237000   \n",
       "75%        118.000000         6.269000                   6.154000   \n",
       "max        157.000000         7.526000                   7.460000   \n",
       "\n",
       "       Upper Confidence Interval         GDP      Family  Life Expectancy  \\\n",
       "count                 157.000000  157.000000  157.000000       157.000000   \n",
       "mean                    5.481975    0.953880    0.793621         0.557619   \n",
       "std                     1.136493    0.412595    0.266706         0.229349   \n",
       "min                     3.078000    0.000000    0.000000         0.000000   \n",
       "25%                     4.465000    0.670240    0.641840         0.382910   \n",
       "50%                     5.419000    1.027800    0.841420         0.596590   \n",
       "75%                     6.434000    1.279640    1.021520         0.729930   \n",
       "max                     7.669000    1.824270    1.183260         0.952770   \n",
       "\n",
       "          Freedom  Corruption  Generosity  Dystopia Residual  \n",
       "count  157.000000  157.000000  157.000000         157.000000  \n",
       "mean     0.370994    0.137624    0.242635           2.325807  \n",
       "std      0.145507    0.111038    0.133756           0.542220  \n",
       "min      0.000000    0.000000    0.000000           0.817890  \n",
       "25%      0.257480    0.061260    0.154570           2.031710  \n",
       "50%      0.397470    0.105470    0.222450           2.290740  \n",
       "75%      0.484530    0.175540    0.311850           2.664650  \n",
       "max      0.608480    0.505210    0.819710           3.837720  "
      ]
     },
     "execution_count": 13,
     "metadata": {},
     "output_type": "execute_result"
    }
   ],
   "source": [
    "# check the descriptive stats\n",
    "data_2016.describe()"
   ]
  },
  {
   "cell_type": "code",
   "execution_count": 14,
   "metadata": {},
   "outputs": [
    {
     "data": {
      "text/plain": [
       "Country                       object\n",
       "Region                        object\n",
       "Happiness Rank                 int64\n",
       "Happiness Score              float64\n",
       "Lower Confidence Interval    float64\n",
       "Upper Confidence Interval    float64\n",
       "GDP                          float64\n",
       "Family                       float64\n",
       "Life Expectancy              float64\n",
       "Freedom                      float64\n",
       "Corruption                   float64\n",
       "Generosity                   float64\n",
       "Dystopia Residual            float64\n",
       "dtype: object"
      ]
     },
     "execution_count": 14,
     "metadata": {},
     "output_type": "execute_result"
    }
   ],
   "source": [
    "# check the data types\n",
    "data_2016.dtypes"
   ]
  },
  {
   "cell_type": "markdown",
   "metadata": {},
   "source": [
    "### 2017 Data"
   ]
  },
  {
   "cell_type": "code",
   "execution_count": 15,
   "metadata": {},
   "outputs": [
    {
     "data": {
      "text/html": [
       "<div>\n",
       "<style scoped>\n",
       "    .dataframe tbody tr th:only-of-type {\n",
       "        vertical-align: middle;\n",
       "    }\n",
       "\n",
       "    .dataframe tbody tr th {\n",
       "        vertical-align: top;\n",
       "    }\n",
       "\n",
       "    .dataframe thead th {\n",
       "        text-align: right;\n",
       "    }\n",
       "</style>\n",
       "<table border=\"1\" class=\"dataframe\">\n",
       "  <thead>\n",
       "    <tr style=\"text-align: right;\">\n",
       "      <th></th>\n",
       "      <th>Country</th>\n",
       "      <th>Happiness.Rank</th>\n",
       "      <th>Happiness.Score</th>\n",
       "      <th>Whisker.high</th>\n",
       "      <th>Whisker.low</th>\n",
       "      <th>Economy..GDP.per.Capita.</th>\n",
       "      <th>Family</th>\n",
       "      <th>Health..Life.Expectancy.</th>\n",
       "      <th>Freedom</th>\n",
       "      <th>Generosity</th>\n",
       "      <th>Trust..Government.Corruption.</th>\n",
       "      <th>Dystopia.Residual</th>\n",
       "    </tr>\n",
       "  </thead>\n",
       "  <tbody>\n",
       "    <tr>\n",
       "      <th>0</th>\n",
       "      <td>Norway</td>\n",
       "      <td>1</td>\n",
       "      <td>7.537</td>\n",
       "      <td>7.594445</td>\n",
       "      <td>7.479556</td>\n",
       "      <td>1.616463</td>\n",
       "      <td>1.533524</td>\n",
       "      <td>0.796667</td>\n",
       "      <td>0.635423</td>\n",
       "      <td>0.362012</td>\n",
       "      <td>0.315964</td>\n",
       "      <td>2.277027</td>\n",
       "    </tr>\n",
       "    <tr>\n",
       "      <th>1</th>\n",
       "      <td>Denmark</td>\n",
       "      <td>2</td>\n",
       "      <td>7.522</td>\n",
       "      <td>7.581728</td>\n",
       "      <td>7.462272</td>\n",
       "      <td>1.482383</td>\n",
       "      <td>1.551122</td>\n",
       "      <td>0.792566</td>\n",
       "      <td>0.626007</td>\n",
       "      <td>0.355280</td>\n",
       "      <td>0.400770</td>\n",
       "      <td>2.313707</td>\n",
       "    </tr>\n",
       "    <tr>\n",
       "      <th>2</th>\n",
       "      <td>Iceland</td>\n",
       "      <td>3</td>\n",
       "      <td>7.504</td>\n",
       "      <td>7.622030</td>\n",
       "      <td>7.385970</td>\n",
       "      <td>1.480633</td>\n",
       "      <td>1.610574</td>\n",
       "      <td>0.833552</td>\n",
       "      <td>0.627163</td>\n",
       "      <td>0.475540</td>\n",
       "      <td>0.153527</td>\n",
       "      <td>2.322715</td>\n",
       "    </tr>\n",
       "    <tr>\n",
       "      <th>3</th>\n",
       "      <td>Switzerland</td>\n",
       "      <td>4</td>\n",
       "      <td>7.494</td>\n",
       "      <td>7.561772</td>\n",
       "      <td>7.426227</td>\n",
       "      <td>1.564980</td>\n",
       "      <td>1.516912</td>\n",
       "      <td>0.858131</td>\n",
       "      <td>0.620071</td>\n",
       "      <td>0.290549</td>\n",
       "      <td>0.367007</td>\n",
       "      <td>2.276716</td>\n",
       "    </tr>\n",
       "    <tr>\n",
       "      <th>4</th>\n",
       "      <td>Finland</td>\n",
       "      <td>5</td>\n",
       "      <td>7.469</td>\n",
       "      <td>7.527542</td>\n",
       "      <td>7.410458</td>\n",
       "      <td>1.443572</td>\n",
       "      <td>1.540247</td>\n",
       "      <td>0.809158</td>\n",
       "      <td>0.617951</td>\n",
       "      <td>0.245483</td>\n",
       "      <td>0.382612</td>\n",
       "      <td>2.430182</td>\n",
       "    </tr>\n",
       "  </tbody>\n",
       "</table>\n",
       "</div>"
      ],
      "text/plain": [
       "       Country  Happiness.Rank  Happiness.Score  Whisker.high  Whisker.low  \\\n",
       "0       Norway               1            7.537      7.594445     7.479556   \n",
       "1      Denmark               2            7.522      7.581728     7.462272   \n",
       "2      Iceland               3            7.504      7.622030     7.385970   \n",
       "3  Switzerland               4            7.494      7.561772     7.426227   \n",
       "4      Finland               5            7.469      7.527542     7.410458   \n",
       "\n",
       "   Economy..GDP.per.Capita.    Family  Health..Life.Expectancy.   Freedom  \\\n",
       "0                  1.616463  1.533524                  0.796667  0.635423   \n",
       "1                  1.482383  1.551122                  0.792566  0.626007   \n",
       "2                  1.480633  1.610574                  0.833552  0.627163   \n",
       "3                  1.564980  1.516912                  0.858131  0.620071   \n",
       "4                  1.443572  1.540247                  0.809158  0.617951   \n",
       "\n",
       "   Generosity  Trust..Government.Corruption.  Dystopia.Residual  \n",
       "0    0.362012                       0.315964           2.277027  \n",
       "1    0.355280                       0.400770           2.313707  \n",
       "2    0.475540                       0.153527           2.322715  \n",
       "3    0.290549                       0.367007           2.276716  \n",
       "4    0.245483                       0.382612           2.430182  "
      ]
     },
     "execution_count": 15,
     "metadata": {},
     "output_type": "execute_result"
    }
   ],
   "source": [
    "data_2017.head()"
   ]
  },
  {
   "cell_type": "code",
   "execution_count": 16,
   "metadata": {},
   "outputs": [],
   "source": [
    "# rename columns\n",
    "data_2017.rename(columns = {'Happiness.Rank':'Happiness Rank','Happiness.Score':'Happiness Score','Whisker.low':'Lower Confidence Interval','Whisker.high':'Upper Confidence Interval','Economy..GDP.per.Capita.':'GDP','Health..Life.Expectancy.':'Life Expectancy','Trust..Government.Corruption.':'Corruption','Dystopia.Residual':'Dystopia Residual'}, inplace = True)"
   ]
  },
  {
   "cell_type": "code",
   "execution_count": 17,
   "metadata": {},
   "outputs": [
    {
     "data": {
      "text/plain": [
       "(155, 12)"
      ]
     },
     "execution_count": 17,
     "metadata": {},
     "output_type": "execute_result"
    }
   ],
   "source": [
    "# checking dimensions\n",
    "data_2017.shape"
   ]
  },
  {
   "cell_type": "code",
   "execution_count": 18,
   "metadata": {},
   "outputs": [
    {
     "data": {
      "text/html": [
       "<div>\n",
       "<style scoped>\n",
       "    .dataframe tbody tr th:only-of-type {\n",
       "        vertical-align: middle;\n",
       "    }\n",
       "\n",
       "    .dataframe tbody tr th {\n",
       "        vertical-align: top;\n",
       "    }\n",
       "\n",
       "    .dataframe thead th {\n",
       "        text-align: right;\n",
       "    }\n",
       "</style>\n",
       "<table border=\"1\" class=\"dataframe\">\n",
       "  <thead>\n",
       "    <tr style=\"text-align: right;\">\n",
       "      <th></th>\n",
       "      <th>Happiness Rank</th>\n",
       "      <th>Happiness Score</th>\n",
       "      <th>Upper Confidence Interval</th>\n",
       "      <th>Lower Confidence Interval</th>\n",
       "      <th>GDP</th>\n",
       "      <th>Family</th>\n",
       "      <th>Life Expectancy</th>\n",
       "      <th>Freedom</th>\n",
       "      <th>Generosity</th>\n",
       "      <th>Corruption</th>\n",
       "      <th>Dystopia Residual</th>\n",
       "    </tr>\n",
       "  </thead>\n",
       "  <tbody>\n",
       "    <tr>\n",
       "      <th>count</th>\n",
       "      <td>155.000000</td>\n",
       "      <td>155.000000</td>\n",
       "      <td>155.000000</td>\n",
       "      <td>155.000000</td>\n",
       "      <td>155.000000</td>\n",
       "      <td>155.000000</td>\n",
       "      <td>155.000000</td>\n",
       "      <td>155.000000</td>\n",
       "      <td>155.000000</td>\n",
       "      <td>155.000000</td>\n",
       "      <td>155.000000</td>\n",
       "    </tr>\n",
       "    <tr>\n",
       "      <th>mean</th>\n",
       "      <td>78.000000</td>\n",
       "      <td>5.354019</td>\n",
       "      <td>5.452326</td>\n",
       "      <td>5.255713</td>\n",
       "      <td>0.984718</td>\n",
       "      <td>1.188898</td>\n",
       "      <td>0.551341</td>\n",
       "      <td>0.408786</td>\n",
       "      <td>0.246883</td>\n",
       "      <td>0.123120</td>\n",
       "      <td>1.850238</td>\n",
       "    </tr>\n",
       "    <tr>\n",
       "      <th>std</th>\n",
       "      <td>44.888751</td>\n",
       "      <td>1.131230</td>\n",
       "      <td>1.118542</td>\n",
       "      <td>1.145030</td>\n",
       "      <td>0.420793</td>\n",
       "      <td>0.287263</td>\n",
       "      <td>0.237073</td>\n",
       "      <td>0.149997</td>\n",
       "      <td>0.134780</td>\n",
       "      <td>0.101661</td>\n",
       "      <td>0.500028</td>\n",
       "    </tr>\n",
       "    <tr>\n",
       "      <th>min</th>\n",
       "      <td>1.000000</td>\n",
       "      <td>2.693000</td>\n",
       "      <td>2.864884</td>\n",
       "      <td>2.521116</td>\n",
       "      <td>0.000000</td>\n",
       "      <td>0.000000</td>\n",
       "      <td>0.000000</td>\n",
       "      <td>0.000000</td>\n",
       "      <td>0.000000</td>\n",
       "      <td>0.000000</td>\n",
       "      <td>0.377914</td>\n",
       "    </tr>\n",
       "    <tr>\n",
       "      <th>25%</th>\n",
       "      <td>39.500000</td>\n",
       "      <td>4.505500</td>\n",
       "      <td>4.608172</td>\n",
       "      <td>4.374955</td>\n",
       "      <td>0.663371</td>\n",
       "      <td>1.042635</td>\n",
       "      <td>0.369866</td>\n",
       "      <td>0.303677</td>\n",
       "      <td>0.154106</td>\n",
       "      <td>0.057271</td>\n",
       "      <td>1.591291</td>\n",
       "    </tr>\n",
       "    <tr>\n",
       "      <th>50%</th>\n",
       "      <td>78.000000</td>\n",
       "      <td>5.279000</td>\n",
       "      <td>5.370032</td>\n",
       "      <td>5.193152</td>\n",
       "      <td>1.064578</td>\n",
       "      <td>1.253918</td>\n",
       "      <td>0.606042</td>\n",
       "      <td>0.437454</td>\n",
       "      <td>0.231538</td>\n",
       "      <td>0.089848</td>\n",
       "      <td>1.832910</td>\n",
       "    </tr>\n",
       "    <tr>\n",
       "      <th>75%</th>\n",
       "      <td>116.500000</td>\n",
       "      <td>6.101500</td>\n",
       "      <td>6.194600</td>\n",
       "      <td>6.006527</td>\n",
       "      <td>1.318027</td>\n",
       "      <td>1.414316</td>\n",
       "      <td>0.723008</td>\n",
       "      <td>0.516561</td>\n",
       "      <td>0.323762</td>\n",
       "      <td>0.153296</td>\n",
       "      <td>2.144654</td>\n",
       "    </tr>\n",
       "    <tr>\n",
       "      <th>max</th>\n",
       "      <td>155.000000</td>\n",
       "      <td>7.537000</td>\n",
       "      <td>7.622030</td>\n",
       "      <td>7.479556</td>\n",
       "      <td>1.870766</td>\n",
       "      <td>1.610574</td>\n",
       "      <td>0.949492</td>\n",
       "      <td>0.658249</td>\n",
       "      <td>0.838075</td>\n",
       "      <td>0.464308</td>\n",
       "      <td>3.117485</td>\n",
       "    </tr>\n",
       "  </tbody>\n",
       "</table>\n",
       "</div>"
      ],
      "text/plain": [
       "       Happiness Rank  Happiness Score  Upper Confidence Interval  \\\n",
       "count      155.000000       155.000000                 155.000000   \n",
       "mean        78.000000         5.354019                   5.452326   \n",
       "std         44.888751         1.131230                   1.118542   \n",
       "min          1.000000         2.693000                   2.864884   \n",
       "25%         39.500000         4.505500                   4.608172   \n",
       "50%         78.000000         5.279000                   5.370032   \n",
       "75%        116.500000         6.101500                   6.194600   \n",
       "max        155.000000         7.537000                   7.622030   \n",
       "\n",
       "       Lower Confidence Interval         GDP      Family  Life Expectancy  \\\n",
       "count                 155.000000  155.000000  155.000000       155.000000   \n",
       "mean                    5.255713    0.984718    1.188898         0.551341   \n",
       "std                     1.145030    0.420793    0.287263         0.237073   \n",
       "min                     2.521116    0.000000    0.000000         0.000000   \n",
       "25%                     4.374955    0.663371    1.042635         0.369866   \n",
       "50%                     5.193152    1.064578    1.253918         0.606042   \n",
       "75%                     6.006527    1.318027    1.414316         0.723008   \n",
       "max                     7.479556    1.870766    1.610574         0.949492   \n",
       "\n",
       "          Freedom  Generosity  Corruption  Dystopia Residual  \n",
       "count  155.000000  155.000000  155.000000         155.000000  \n",
       "mean     0.408786    0.246883    0.123120           1.850238  \n",
       "std      0.149997    0.134780    0.101661           0.500028  \n",
       "min      0.000000    0.000000    0.000000           0.377914  \n",
       "25%      0.303677    0.154106    0.057271           1.591291  \n",
       "50%      0.437454    0.231538    0.089848           1.832910  \n",
       "75%      0.516561    0.323762    0.153296           2.144654  \n",
       "max      0.658249    0.838075    0.464308           3.117485  "
      ]
     },
     "execution_count": 18,
     "metadata": {},
     "output_type": "execute_result"
    }
   ],
   "source": [
    "# check the descriptive stats\n",
    "data_2017.describe()"
   ]
  },
  {
   "cell_type": "code",
   "execution_count": 19,
   "metadata": {},
   "outputs": [
    {
     "data": {
      "text/plain": [
       "Country                       object\n",
       "Happiness Rank                 int64\n",
       "Happiness Score              float64\n",
       "Upper Confidence Interval    float64\n",
       "Lower Confidence Interval    float64\n",
       "GDP                          float64\n",
       "Family                       float64\n",
       "Life Expectancy              float64\n",
       "Freedom                      float64\n",
       "Generosity                   float64\n",
       "Corruption                   float64\n",
       "Dystopia Residual            float64\n",
       "dtype: object"
      ]
     },
     "execution_count": 19,
     "metadata": {},
     "output_type": "execute_result"
    }
   ],
   "source": [
    "# check the data types\n",
    "data_2017.dtypes"
   ]
  },
  {
   "cell_type": "markdown",
   "metadata": {},
   "source": [
    "### 2018 Data"
   ]
  },
  {
   "cell_type": "code",
   "execution_count": 20,
   "metadata": {},
   "outputs": [
    {
     "data": {
      "text/html": [
       "<div>\n",
       "<style scoped>\n",
       "    .dataframe tbody tr th:only-of-type {\n",
       "        vertical-align: middle;\n",
       "    }\n",
       "\n",
       "    .dataframe tbody tr th {\n",
       "        vertical-align: top;\n",
       "    }\n",
       "\n",
       "    .dataframe thead th {\n",
       "        text-align: right;\n",
       "    }\n",
       "</style>\n",
       "<table border=\"1\" class=\"dataframe\">\n",
       "  <thead>\n",
       "    <tr style=\"text-align: right;\">\n",
       "      <th></th>\n",
       "      <th>Overall rank</th>\n",
       "      <th>Country or region</th>\n",
       "      <th>Score</th>\n",
       "      <th>GDP per capita</th>\n",
       "      <th>Social support</th>\n",
       "      <th>Healthy life expectancy</th>\n",
       "      <th>Freedom to make life choices</th>\n",
       "      <th>Generosity</th>\n",
       "      <th>Perceptions of corruption</th>\n",
       "    </tr>\n",
       "  </thead>\n",
       "  <tbody>\n",
       "    <tr>\n",
       "      <th>0</th>\n",
       "      <td>1</td>\n",
       "      <td>Finland</td>\n",
       "      <td>7.632</td>\n",
       "      <td>1.305</td>\n",
       "      <td>1.592</td>\n",
       "      <td>0.874</td>\n",
       "      <td>0.681</td>\n",
       "      <td>0.202</td>\n",
       "      <td>0.393</td>\n",
       "    </tr>\n",
       "    <tr>\n",
       "      <th>1</th>\n",
       "      <td>2</td>\n",
       "      <td>Norway</td>\n",
       "      <td>7.594</td>\n",
       "      <td>1.456</td>\n",
       "      <td>1.582</td>\n",
       "      <td>0.861</td>\n",
       "      <td>0.686</td>\n",
       "      <td>0.286</td>\n",
       "      <td>0.340</td>\n",
       "    </tr>\n",
       "    <tr>\n",
       "      <th>2</th>\n",
       "      <td>3</td>\n",
       "      <td>Denmark</td>\n",
       "      <td>7.555</td>\n",
       "      <td>1.351</td>\n",
       "      <td>1.590</td>\n",
       "      <td>0.868</td>\n",
       "      <td>0.683</td>\n",
       "      <td>0.284</td>\n",
       "      <td>0.408</td>\n",
       "    </tr>\n",
       "    <tr>\n",
       "      <th>3</th>\n",
       "      <td>4</td>\n",
       "      <td>Iceland</td>\n",
       "      <td>7.495</td>\n",
       "      <td>1.343</td>\n",
       "      <td>1.644</td>\n",
       "      <td>0.914</td>\n",
       "      <td>0.677</td>\n",
       "      <td>0.353</td>\n",
       "      <td>0.138</td>\n",
       "    </tr>\n",
       "    <tr>\n",
       "      <th>4</th>\n",
       "      <td>5</td>\n",
       "      <td>Switzerland</td>\n",
       "      <td>7.487</td>\n",
       "      <td>1.420</td>\n",
       "      <td>1.549</td>\n",
       "      <td>0.927</td>\n",
       "      <td>0.660</td>\n",
       "      <td>0.256</td>\n",
       "      <td>0.357</td>\n",
       "    </tr>\n",
       "  </tbody>\n",
       "</table>\n",
       "</div>"
      ],
      "text/plain": [
       "   Overall rank Country or region  Score  GDP per capita  Social support  \\\n",
       "0             1           Finland  7.632           1.305           1.592   \n",
       "1             2            Norway  7.594           1.456           1.582   \n",
       "2             3           Denmark  7.555           1.351           1.590   \n",
       "3             4           Iceland  7.495           1.343           1.644   \n",
       "4             5       Switzerland  7.487           1.420           1.549   \n",
       "\n",
       "   Healthy life expectancy  Freedom to make life choices  Generosity  \\\n",
       "0                    0.874                         0.681       0.202   \n",
       "1                    0.861                         0.686       0.286   \n",
       "2                    0.868                         0.683       0.284   \n",
       "3                    0.914                         0.677       0.353   \n",
       "4                    0.927                         0.660       0.256   \n",
       "\n",
       "   Perceptions of corruption  \n",
       "0                      0.393  \n",
       "1                      0.340  \n",
       "2                      0.408  \n",
       "3                      0.138  \n",
       "4                      0.357  "
      ]
     },
     "execution_count": 20,
     "metadata": {},
     "output_type": "execute_result"
    }
   ],
   "source": [
    "data_2018.head()"
   ]
  },
  {
   "cell_type": "code",
   "execution_count": 21,
   "metadata": {},
   "outputs": [],
   "source": [
    "# rename the columns\n",
    "data_2018.rename(columns = {'Overall rank':'Happiness Rank','Country or region':'Country','Score':'Happiness Score','GDP per capita':'GDP','Healthy life expectancy':'Life Expectancy','Freedom to make life choices':'Freedom','Perceptions of corruption':'Corruption'}, inplace = True)"
   ]
  },
  {
   "cell_type": "code",
   "execution_count": 22,
   "metadata": {},
   "outputs": [
    {
     "data": {
      "text/plain": [
       "(156, 9)"
      ]
     },
     "execution_count": 22,
     "metadata": {},
     "output_type": "execute_result"
    }
   ],
   "source": [
    "# checking dimensions\n",
    "data_2018.shape"
   ]
  },
  {
   "cell_type": "code",
   "execution_count": 23,
   "metadata": {},
   "outputs": [
    {
     "data": {
      "text/html": [
       "<div>\n",
       "<style scoped>\n",
       "    .dataframe tbody tr th:only-of-type {\n",
       "        vertical-align: middle;\n",
       "    }\n",
       "\n",
       "    .dataframe tbody tr th {\n",
       "        vertical-align: top;\n",
       "    }\n",
       "\n",
       "    .dataframe thead th {\n",
       "        text-align: right;\n",
       "    }\n",
       "</style>\n",
       "<table border=\"1\" class=\"dataframe\">\n",
       "  <thead>\n",
       "    <tr style=\"text-align: right;\">\n",
       "      <th></th>\n",
       "      <th>Happiness Rank</th>\n",
       "      <th>Happiness Score</th>\n",
       "      <th>GDP</th>\n",
       "      <th>Social support</th>\n",
       "      <th>Life Expectancy</th>\n",
       "      <th>Freedom</th>\n",
       "      <th>Generosity</th>\n",
       "      <th>Corruption</th>\n",
       "    </tr>\n",
       "  </thead>\n",
       "  <tbody>\n",
       "    <tr>\n",
       "      <th>count</th>\n",
       "      <td>156.000000</td>\n",
       "      <td>156.000000</td>\n",
       "      <td>156.000000</td>\n",
       "      <td>156.000000</td>\n",
       "      <td>156.000000</td>\n",
       "      <td>156.000000</td>\n",
       "      <td>156.000000</td>\n",
       "      <td>155.000000</td>\n",
       "    </tr>\n",
       "    <tr>\n",
       "      <th>mean</th>\n",
       "      <td>78.500000</td>\n",
       "      <td>5.375917</td>\n",
       "      <td>0.891449</td>\n",
       "      <td>1.213237</td>\n",
       "      <td>0.597346</td>\n",
       "      <td>0.454506</td>\n",
       "      <td>0.181006</td>\n",
       "      <td>0.112000</td>\n",
       "    </tr>\n",
       "    <tr>\n",
       "      <th>std</th>\n",
       "      <td>45.177428</td>\n",
       "      <td>1.119506</td>\n",
       "      <td>0.391921</td>\n",
       "      <td>0.302372</td>\n",
       "      <td>0.247579</td>\n",
       "      <td>0.162424</td>\n",
       "      <td>0.098471</td>\n",
       "      <td>0.096492</td>\n",
       "    </tr>\n",
       "    <tr>\n",
       "      <th>min</th>\n",
       "      <td>1.000000</td>\n",
       "      <td>2.905000</td>\n",
       "      <td>0.000000</td>\n",
       "      <td>0.000000</td>\n",
       "      <td>0.000000</td>\n",
       "      <td>0.000000</td>\n",
       "      <td>0.000000</td>\n",
       "      <td>0.000000</td>\n",
       "    </tr>\n",
       "    <tr>\n",
       "      <th>25%</th>\n",
       "      <td>39.750000</td>\n",
       "      <td>4.453750</td>\n",
       "      <td>0.616250</td>\n",
       "      <td>1.066750</td>\n",
       "      <td>0.422250</td>\n",
       "      <td>0.356000</td>\n",
       "      <td>0.109500</td>\n",
       "      <td>0.051000</td>\n",
       "    </tr>\n",
       "    <tr>\n",
       "      <th>50%</th>\n",
       "      <td>78.500000</td>\n",
       "      <td>5.378000</td>\n",
       "      <td>0.949500</td>\n",
       "      <td>1.255000</td>\n",
       "      <td>0.644000</td>\n",
       "      <td>0.487000</td>\n",
       "      <td>0.174000</td>\n",
       "      <td>0.082000</td>\n",
       "    </tr>\n",
       "    <tr>\n",
       "      <th>75%</th>\n",
       "      <td>117.250000</td>\n",
       "      <td>6.168500</td>\n",
       "      <td>1.197750</td>\n",
       "      <td>1.463000</td>\n",
       "      <td>0.777250</td>\n",
       "      <td>0.578500</td>\n",
       "      <td>0.239000</td>\n",
       "      <td>0.137000</td>\n",
       "    </tr>\n",
       "    <tr>\n",
       "      <th>max</th>\n",
       "      <td>156.000000</td>\n",
       "      <td>7.632000</td>\n",
       "      <td>2.096000</td>\n",
       "      <td>1.644000</td>\n",
       "      <td>1.030000</td>\n",
       "      <td>0.724000</td>\n",
       "      <td>0.598000</td>\n",
       "      <td>0.457000</td>\n",
       "    </tr>\n",
       "  </tbody>\n",
       "</table>\n",
       "</div>"
      ],
      "text/plain": [
       "       Happiness Rank  Happiness Score         GDP  Social support  \\\n",
       "count      156.000000       156.000000  156.000000      156.000000   \n",
       "mean        78.500000         5.375917    0.891449        1.213237   \n",
       "std         45.177428         1.119506    0.391921        0.302372   \n",
       "min          1.000000         2.905000    0.000000        0.000000   \n",
       "25%         39.750000         4.453750    0.616250        1.066750   \n",
       "50%         78.500000         5.378000    0.949500        1.255000   \n",
       "75%        117.250000         6.168500    1.197750        1.463000   \n",
       "max        156.000000         7.632000    2.096000        1.644000   \n",
       "\n",
       "       Life Expectancy     Freedom  Generosity  Corruption  \n",
       "count       156.000000  156.000000  156.000000  155.000000  \n",
       "mean          0.597346    0.454506    0.181006    0.112000  \n",
       "std           0.247579    0.162424    0.098471    0.096492  \n",
       "min           0.000000    0.000000    0.000000    0.000000  \n",
       "25%           0.422250    0.356000    0.109500    0.051000  \n",
       "50%           0.644000    0.487000    0.174000    0.082000  \n",
       "75%           0.777250    0.578500    0.239000    0.137000  \n",
       "max           1.030000    0.724000    0.598000    0.457000  "
      ]
     },
     "execution_count": 23,
     "metadata": {},
     "output_type": "execute_result"
    }
   ],
   "source": [
    "# check the descriptive stats\n",
    "data_2018.describe()"
   ]
  },
  {
   "cell_type": "code",
   "execution_count": 24,
   "metadata": {},
   "outputs": [
    {
     "data": {
      "text/plain": [
       "Happiness Rank       int64\n",
       "Country             object\n",
       "Happiness Score    float64\n",
       "GDP                float64\n",
       "Social support     float64\n",
       "Life Expectancy    float64\n",
       "Freedom            float64\n",
       "Generosity         float64\n",
       "Corruption         float64\n",
       "dtype: object"
      ]
     },
     "execution_count": 24,
     "metadata": {},
     "output_type": "execute_result"
    }
   ],
   "source": [
    "# check the data types\n",
    "data_2018.dtypes"
   ]
  },
  {
   "cell_type": "markdown",
   "metadata": {},
   "source": [
    "### 2019 Data"
   ]
  },
  {
   "cell_type": "code",
   "execution_count": 25,
   "metadata": {},
   "outputs": [
    {
     "data": {
      "text/html": [
       "<div>\n",
       "<style scoped>\n",
       "    .dataframe tbody tr th:only-of-type {\n",
       "        vertical-align: middle;\n",
       "    }\n",
       "\n",
       "    .dataframe tbody tr th {\n",
       "        vertical-align: top;\n",
       "    }\n",
       "\n",
       "    .dataframe thead th {\n",
       "        text-align: right;\n",
       "    }\n",
       "</style>\n",
       "<table border=\"1\" class=\"dataframe\">\n",
       "  <thead>\n",
       "    <tr style=\"text-align: right;\">\n",
       "      <th></th>\n",
       "      <th>Overall rank</th>\n",
       "      <th>Country or region</th>\n",
       "      <th>Score</th>\n",
       "      <th>GDP per capita</th>\n",
       "      <th>Social support</th>\n",
       "      <th>Healthy life expectancy</th>\n",
       "      <th>Freedom to make life choices</th>\n",
       "      <th>Generosity</th>\n",
       "      <th>Perceptions of corruption</th>\n",
       "    </tr>\n",
       "  </thead>\n",
       "  <tbody>\n",
       "    <tr>\n",
       "      <th>0</th>\n",
       "      <td>1</td>\n",
       "      <td>Finland</td>\n",
       "      <td>7.769</td>\n",
       "      <td>1.340</td>\n",
       "      <td>1.587</td>\n",
       "      <td>0.986</td>\n",
       "      <td>0.596</td>\n",
       "      <td>0.153</td>\n",
       "      <td>0.393</td>\n",
       "    </tr>\n",
       "    <tr>\n",
       "      <th>1</th>\n",
       "      <td>2</td>\n",
       "      <td>Denmark</td>\n",
       "      <td>7.600</td>\n",
       "      <td>1.383</td>\n",
       "      <td>1.573</td>\n",
       "      <td>0.996</td>\n",
       "      <td>0.592</td>\n",
       "      <td>0.252</td>\n",
       "      <td>0.410</td>\n",
       "    </tr>\n",
       "    <tr>\n",
       "      <th>2</th>\n",
       "      <td>3</td>\n",
       "      <td>Norway</td>\n",
       "      <td>7.554</td>\n",
       "      <td>1.488</td>\n",
       "      <td>1.582</td>\n",
       "      <td>1.028</td>\n",
       "      <td>0.603</td>\n",
       "      <td>0.271</td>\n",
       "      <td>0.341</td>\n",
       "    </tr>\n",
       "    <tr>\n",
       "      <th>3</th>\n",
       "      <td>4</td>\n",
       "      <td>Iceland</td>\n",
       "      <td>7.494</td>\n",
       "      <td>1.380</td>\n",
       "      <td>1.624</td>\n",
       "      <td>1.026</td>\n",
       "      <td>0.591</td>\n",
       "      <td>0.354</td>\n",
       "      <td>0.118</td>\n",
       "    </tr>\n",
       "    <tr>\n",
       "      <th>4</th>\n",
       "      <td>5</td>\n",
       "      <td>Netherlands</td>\n",
       "      <td>7.488</td>\n",
       "      <td>1.396</td>\n",
       "      <td>1.522</td>\n",
       "      <td>0.999</td>\n",
       "      <td>0.557</td>\n",
       "      <td>0.322</td>\n",
       "      <td>0.298</td>\n",
       "    </tr>\n",
       "  </tbody>\n",
       "</table>\n",
       "</div>"
      ],
      "text/plain": [
       "   Overall rank Country or region  Score  GDP per capita  Social support  \\\n",
       "0             1           Finland  7.769           1.340           1.587   \n",
       "1             2           Denmark  7.600           1.383           1.573   \n",
       "2             3            Norway  7.554           1.488           1.582   \n",
       "3             4           Iceland  7.494           1.380           1.624   \n",
       "4             5       Netherlands  7.488           1.396           1.522   \n",
       "\n",
       "   Healthy life expectancy  Freedom to make life choices  Generosity  \\\n",
       "0                    0.986                         0.596       0.153   \n",
       "1                    0.996                         0.592       0.252   \n",
       "2                    1.028                         0.603       0.271   \n",
       "3                    1.026                         0.591       0.354   \n",
       "4                    0.999                         0.557       0.322   \n",
       "\n",
       "   Perceptions of corruption  \n",
       "0                      0.393  \n",
       "1                      0.410  \n",
       "2                      0.341  \n",
       "3                      0.118  \n",
       "4                      0.298  "
      ]
     },
     "execution_count": 25,
     "metadata": {},
     "output_type": "execute_result"
    }
   ],
   "source": [
    "data_2019.head()"
   ]
  },
  {
   "cell_type": "code",
   "execution_count": 26,
   "metadata": {},
   "outputs": [],
   "source": [
    "# rename the columns\n",
    "data_2019.rename(columns = {'Overall rank':'Happiness Rank','Country or region':'Country','Score':'Happiness Score','GDP per capita':'GDP','Healthy life expectancy':'Life Expectancy','Freedom to make life choices':'Freedom','Perceptions of corruption':'Corruption'}, inplace = True)"
   ]
  },
  {
   "cell_type": "code",
   "execution_count": 27,
   "metadata": {},
   "outputs": [
    {
     "data": {
      "text/plain": [
       "(156, 9)"
      ]
     },
     "execution_count": 27,
     "metadata": {},
     "output_type": "execute_result"
    }
   ],
   "source": [
    "# checking dimensions\n",
    "data_2019.shape"
   ]
  },
  {
   "cell_type": "code",
   "execution_count": 28,
   "metadata": {},
   "outputs": [
    {
     "data": {
      "text/html": [
       "<div>\n",
       "<style scoped>\n",
       "    .dataframe tbody tr th:only-of-type {\n",
       "        vertical-align: middle;\n",
       "    }\n",
       "\n",
       "    .dataframe tbody tr th {\n",
       "        vertical-align: top;\n",
       "    }\n",
       "\n",
       "    .dataframe thead th {\n",
       "        text-align: right;\n",
       "    }\n",
       "</style>\n",
       "<table border=\"1\" class=\"dataframe\">\n",
       "  <thead>\n",
       "    <tr style=\"text-align: right;\">\n",
       "      <th></th>\n",
       "      <th>Happiness Rank</th>\n",
       "      <th>Happiness Score</th>\n",
       "      <th>GDP</th>\n",
       "      <th>Social support</th>\n",
       "      <th>Life Expectancy</th>\n",
       "      <th>Freedom</th>\n",
       "      <th>Generosity</th>\n",
       "      <th>Corruption</th>\n",
       "    </tr>\n",
       "  </thead>\n",
       "  <tbody>\n",
       "    <tr>\n",
       "      <th>count</th>\n",
       "      <td>156.000000</td>\n",
       "      <td>156.000000</td>\n",
       "      <td>156.000000</td>\n",
       "      <td>156.000000</td>\n",
       "      <td>156.000000</td>\n",
       "      <td>156.000000</td>\n",
       "      <td>156.000000</td>\n",
       "      <td>156.000000</td>\n",
       "    </tr>\n",
       "    <tr>\n",
       "      <th>mean</th>\n",
       "      <td>78.500000</td>\n",
       "      <td>5.407096</td>\n",
       "      <td>0.905147</td>\n",
       "      <td>1.208814</td>\n",
       "      <td>0.725244</td>\n",
       "      <td>0.392571</td>\n",
       "      <td>0.184846</td>\n",
       "      <td>0.110603</td>\n",
       "    </tr>\n",
       "    <tr>\n",
       "      <th>std</th>\n",
       "      <td>45.177428</td>\n",
       "      <td>1.113120</td>\n",
       "      <td>0.398389</td>\n",
       "      <td>0.299191</td>\n",
       "      <td>0.242124</td>\n",
       "      <td>0.143289</td>\n",
       "      <td>0.095254</td>\n",
       "      <td>0.094538</td>\n",
       "    </tr>\n",
       "    <tr>\n",
       "      <th>min</th>\n",
       "      <td>1.000000</td>\n",
       "      <td>2.853000</td>\n",
       "      <td>0.000000</td>\n",
       "      <td>0.000000</td>\n",
       "      <td>0.000000</td>\n",
       "      <td>0.000000</td>\n",
       "      <td>0.000000</td>\n",
       "      <td>0.000000</td>\n",
       "    </tr>\n",
       "    <tr>\n",
       "      <th>25%</th>\n",
       "      <td>39.750000</td>\n",
       "      <td>4.544500</td>\n",
       "      <td>0.602750</td>\n",
       "      <td>1.055750</td>\n",
       "      <td>0.547750</td>\n",
       "      <td>0.308000</td>\n",
       "      <td>0.108750</td>\n",
       "      <td>0.047000</td>\n",
       "    </tr>\n",
       "    <tr>\n",
       "      <th>50%</th>\n",
       "      <td>78.500000</td>\n",
       "      <td>5.379500</td>\n",
       "      <td>0.960000</td>\n",
       "      <td>1.271500</td>\n",
       "      <td>0.789000</td>\n",
       "      <td>0.417000</td>\n",
       "      <td>0.177500</td>\n",
       "      <td>0.085500</td>\n",
       "    </tr>\n",
       "    <tr>\n",
       "      <th>75%</th>\n",
       "      <td>117.250000</td>\n",
       "      <td>6.184500</td>\n",
       "      <td>1.232500</td>\n",
       "      <td>1.452500</td>\n",
       "      <td>0.881750</td>\n",
       "      <td>0.507250</td>\n",
       "      <td>0.248250</td>\n",
       "      <td>0.141250</td>\n",
       "    </tr>\n",
       "    <tr>\n",
       "      <th>max</th>\n",
       "      <td>156.000000</td>\n",
       "      <td>7.769000</td>\n",
       "      <td>1.684000</td>\n",
       "      <td>1.624000</td>\n",
       "      <td>1.141000</td>\n",
       "      <td>0.631000</td>\n",
       "      <td>0.566000</td>\n",
       "      <td>0.453000</td>\n",
       "    </tr>\n",
       "  </tbody>\n",
       "</table>\n",
       "</div>"
      ],
      "text/plain": [
       "       Happiness Rank  Happiness Score         GDP  Social support  \\\n",
       "count      156.000000       156.000000  156.000000      156.000000   \n",
       "mean        78.500000         5.407096    0.905147        1.208814   \n",
       "std         45.177428         1.113120    0.398389        0.299191   \n",
       "min          1.000000         2.853000    0.000000        0.000000   \n",
       "25%         39.750000         4.544500    0.602750        1.055750   \n",
       "50%         78.500000         5.379500    0.960000        1.271500   \n",
       "75%        117.250000         6.184500    1.232500        1.452500   \n",
       "max        156.000000         7.769000    1.684000        1.624000   \n",
       "\n",
       "       Life Expectancy     Freedom  Generosity  Corruption  \n",
       "count       156.000000  156.000000  156.000000  156.000000  \n",
       "mean          0.725244    0.392571    0.184846    0.110603  \n",
       "std           0.242124    0.143289    0.095254    0.094538  \n",
       "min           0.000000    0.000000    0.000000    0.000000  \n",
       "25%           0.547750    0.308000    0.108750    0.047000  \n",
       "50%           0.789000    0.417000    0.177500    0.085500  \n",
       "75%           0.881750    0.507250    0.248250    0.141250  \n",
       "max           1.141000    0.631000    0.566000    0.453000  "
      ]
     },
     "execution_count": 28,
     "metadata": {},
     "output_type": "execute_result"
    }
   ],
   "source": [
    "# check the descriptive stats\n",
    "data_2019.describe()"
   ]
  },
  {
   "cell_type": "code",
   "execution_count": 29,
   "metadata": {},
   "outputs": [
    {
     "data": {
      "text/plain": [
       "Happiness Rank       int64\n",
       "Country             object\n",
       "Happiness Score    float64\n",
       "GDP                float64\n",
       "Social support     float64\n",
       "Life Expectancy    float64\n",
       "Freedom            float64\n",
       "Generosity         float64\n",
       "Corruption         float64\n",
       "dtype: object"
      ]
     },
     "execution_count": 29,
     "metadata": {},
     "output_type": "execute_result"
    }
   ],
   "source": [
    "# check the data types\n",
    "data_2019.dtypes"
   ]
  },
  {
   "cell_type": "markdown",
   "metadata": {},
   "source": [
    "## 03. Consistency Checks"
   ]
  },
  {
   "cell_type": "markdown",
   "metadata": {},
   "source": [
    "### 2015 Data"
   ]
  },
  {
   "cell_type": "code",
   "execution_count": 30,
   "metadata": {},
   "outputs": [
    {
     "data": {
      "text/plain": [
       "Country              0\n",
       "Region               0\n",
       "Happiness Rank       0\n",
       "Happiness Score      0\n",
       "Standard Error       0\n",
       "GDP                  0\n",
       "Family               0\n",
       "Life Expectancy      0\n",
       "Freedom              0\n",
       "Corruption           0\n",
       "Generosity           0\n",
       "Dystopia Residual    0\n",
       "dtype: int64"
      ]
     },
     "execution_count": 30,
     "metadata": {},
     "output_type": "execute_result"
    }
   ],
   "source": [
    "# checking for missing data\n",
    "data_2015.isnull().sum()"
   ]
  },
  {
   "cell_type": "code",
   "execution_count": 31,
   "metadata": {},
   "outputs": [
    {
     "data": {
      "text/html": [
       "<div>\n",
       "<style scoped>\n",
       "    .dataframe tbody tr th:only-of-type {\n",
       "        vertical-align: middle;\n",
       "    }\n",
       "\n",
       "    .dataframe tbody tr th {\n",
       "        vertical-align: top;\n",
       "    }\n",
       "\n",
       "    .dataframe thead th {\n",
       "        text-align: right;\n",
       "    }\n",
       "</style>\n",
       "<table border=\"1\" class=\"dataframe\">\n",
       "  <thead>\n",
       "    <tr style=\"text-align: right;\">\n",
       "      <th></th>\n",
       "      <th>Country</th>\n",
       "      <th>Region</th>\n",
       "      <th>Happiness Rank</th>\n",
       "      <th>Happiness Score</th>\n",
       "      <th>Standard Error</th>\n",
       "      <th>GDP</th>\n",
       "      <th>Family</th>\n",
       "      <th>Life Expectancy</th>\n",
       "      <th>Freedom</th>\n",
       "      <th>Corruption</th>\n",
       "      <th>Generosity</th>\n",
       "      <th>Dystopia Residual</th>\n",
       "    </tr>\n",
       "  </thead>\n",
       "  <tbody>\n",
       "  </tbody>\n",
       "</table>\n",
       "</div>"
      ],
      "text/plain": [
       "Empty DataFrame\n",
       "Columns: [Country, Region, Happiness Rank, Happiness Score, Standard Error, GDP, Family, Life Expectancy, Freedom, Corruption, Generosity, Dystopia Residual]\n",
       "Index: []"
      ]
     },
     "execution_count": 31,
     "metadata": {},
     "output_type": "execute_result"
    }
   ],
   "source": [
    "# checking for duplicates\n",
    "data_2015[data_2015.duplicated()]"
   ]
  },
  {
   "cell_type": "code",
   "execution_count": 32,
   "metadata": {},
   "outputs": [],
   "source": [
    "# checking for mixed-types\n",
    "for col in data_2015.columns.tolist():\n",
    "    weird = (data_2015[[col]].applymap(type) != data_2015[[col]].iloc[0].apply(type)).any(axis=1)\n",
    "    if len(data_2015[weird]) > 0:\n",
    "        print(col)"
   ]
  },
  {
   "cell_type": "markdown",
   "metadata": {},
   "source": [
    "### 2016 Data"
   ]
  },
  {
   "cell_type": "code",
   "execution_count": 33,
   "metadata": {},
   "outputs": [
    {
     "data": {
      "text/plain": [
       "Country                      0\n",
       "Region                       0\n",
       "Happiness Rank               0\n",
       "Happiness Score              0\n",
       "Lower Confidence Interval    0\n",
       "Upper Confidence Interval    0\n",
       "GDP                          0\n",
       "Family                       0\n",
       "Life Expectancy              0\n",
       "Freedom                      0\n",
       "Corruption                   0\n",
       "Generosity                   0\n",
       "Dystopia Residual            0\n",
       "dtype: int64"
      ]
     },
     "execution_count": 33,
     "metadata": {},
     "output_type": "execute_result"
    }
   ],
   "source": [
    "# checking for missing data\n",
    "data_2016.isnull().sum()"
   ]
  },
  {
   "cell_type": "code",
   "execution_count": 34,
   "metadata": {},
   "outputs": [
    {
     "data": {
      "text/html": [
       "<div>\n",
       "<style scoped>\n",
       "    .dataframe tbody tr th:only-of-type {\n",
       "        vertical-align: middle;\n",
       "    }\n",
       "\n",
       "    .dataframe tbody tr th {\n",
       "        vertical-align: top;\n",
       "    }\n",
       "\n",
       "    .dataframe thead th {\n",
       "        text-align: right;\n",
       "    }\n",
       "</style>\n",
       "<table border=\"1\" class=\"dataframe\">\n",
       "  <thead>\n",
       "    <tr style=\"text-align: right;\">\n",
       "      <th></th>\n",
       "      <th>Country</th>\n",
       "      <th>Region</th>\n",
       "      <th>Happiness Rank</th>\n",
       "      <th>Happiness Score</th>\n",
       "      <th>Lower Confidence Interval</th>\n",
       "      <th>Upper Confidence Interval</th>\n",
       "      <th>GDP</th>\n",
       "      <th>Family</th>\n",
       "      <th>Life Expectancy</th>\n",
       "      <th>Freedom</th>\n",
       "      <th>Corruption</th>\n",
       "      <th>Generosity</th>\n",
       "      <th>Dystopia Residual</th>\n",
       "    </tr>\n",
       "  </thead>\n",
       "  <tbody>\n",
       "  </tbody>\n",
       "</table>\n",
       "</div>"
      ],
      "text/plain": [
       "Empty DataFrame\n",
       "Columns: [Country, Region, Happiness Rank, Happiness Score, Lower Confidence Interval, Upper Confidence Interval, GDP, Family, Life Expectancy, Freedom, Corruption, Generosity, Dystopia Residual]\n",
       "Index: []"
      ]
     },
     "execution_count": 34,
     "metadata": {},
     "output_type": "execute_result"
    }
   ],
   "source": [
    "# checking for duplicates\n",
    "data_2016[data_2016.duplicated()]"
   ]
  },
  {
   "cell_type": "code",
   "execution_count": 35,
   "metadata": {},
   "outputs": [],
   "source": [
    "# checking for mixed-types\n",
    "for col in data_2016.columns.tolist():\n",
    "    weird = (data_2016[[col]].applymap(type) != data_2016[[col]].iloc[0].apply(type)).any(axis=1)\n",
    "    if len(data_2016[weird]) > 0:\n",
    "        print(col)"
   ]
  },
  {
   "cell_type": "markdown",
   "metadata": {},
   "source": [
    "### 2017 Data"
   ]
  },
  {
   "cell_type": "code",
   "execution_count": 36,
   "metadata": {},
   "outputs": [
    {
     "data": {
      "text/plain": [
       "Country                      0\n",
       "Happiness Rank               0\n",
       "Happiness Score              0\n",
       "Upper Confidence Interval    0\n",
       "Lower Confidence Interval    0\n",
       "GDP                          0\n",
       "Family                       0\n",
       "Life Expectancy              0\n",
       "Freedom                      0\n",
       "Generosity                   0\n",
       "Corruption                   0\n",
       "Dystopia Residual            0\n",
       "dtype: int64"
      ]
     },
     "execution_count": 36,
     "metadata": {},
     "output_type": "execute_result"
    }
   ],
   "source": [
    "# checking for missing data\n",
    "data_2017.isnull().sum()"
   ]
  },
  {
   "cell_type": "code",
   "execution_count": 37,
   "metadata": {},
   "outputs": [
    {
     "data": {
      "text/html": [
       "<div>\n",
       "<style scoped>\n",
       "    .dataframe tbody tr th:only-of-type {\n",
       "        vertical-align: middle;\n",
       "    }\n",
       "\n",
       "    .dataframe tbody tr th {\n",
       "        vertical-align: top;\n",
       "    }\n",
       "\n",
       "    .dataframe thead th {\n",
       "        text-align: right;\n",
       "    }\n",
       "</style>\n",
       "<table border=\"1\" class=\"dataframe\">\n",
       "  <thead>\n",
       "    <tr style=\"text-align: right;\">\n",
       "      <th></th>\n",
       "      <th>Country</th>\n",
       "      <th>Happiness Rank</th>\n",
       "      <th>Happiness Score</th>\n",
       "      <th>Upper Confidence Interval</th>\n",
       "      <th>Lower Confidence Interval</th>\n",
       "      <th>GDP</th>\n",
       "      <th>Family</th>\n",
       "      <th>Life Expectancy</th>\n",
       "      <th>Freedom</th>\n",
       "      <th>Generosity</th>\n",
       "      <th>Corruption</th>\n",
       "      <th>Dystopia Residual</th>\n",
       "    </tr>\n",
       "  </thead>\n",
       "  <tbody>\n",
       "  </tbody>\n",
       "</table>\n",
       "</div>"
      ],
      "text/plain": [
       "Empty DataFrame\n",
       "Columns: [Country, Happiness Rank, Happiness Score, Upper Confidence Interval, Lower Confidence Interval, GDP, Family, Life Expectancy, Freedom, Generosity, Corruption, Dystopia Residual]\n",
       "Index: []"
      ]
     },
     "execution_count": 37,
     "metadata": {},
     "output_type": "execute_result"
    }
   ],
   "source": [
    "# checking for duplicates\n",
    "data_2017[data_2017.duplicated()]"
   ]
  },
  {
   "cell_type": "code",
   "execution_count": 38,
   "metadata": {},
   "outputs": [],
   "source": [
    "# checking for mixed-types\n",
    "for col in data_2017.columns.tolist():\n",
    "    weird = (data_2017[[col]].applymap(type) != data_2017[[col]].iloc[0].apply(type)).any(axis=1)\n",
    "    if len(data_2017[weird]) > 0:\n",
    "        print(col)"
   ]
  },
  {
   "cell_type": "markdown",
   "metadata": {},
   "source": [
    "### 2018 Data"
   ]
  },
  {
   "cell_type": "code",
   "execution_count": 39,
   "metadata": {},
   "outputs": [
    {
     "data": {
      "text/plain": [
       "Happiness Rank     0\n",
       "Country            0\n",
       "Happiness Score    0\n",
       "GDP                0\n",
       "Social support     0\n",
       "Life Expectancy    0\n",
       "Freedom            0\n",
       "Generosity         0\n",
       "Corruption         1\n",
       "dtype: int64"
      ]
     },
     "execution_count": 39,
     "metadata": {},
     "output_type": "execute_result"
    }
   ],
   "source": [
    "# checking for missing data\n",
    "data_2018.isnull().sum()"
   ]
  },
  {
   "cell_type": "code",
   "execution_count": 40,
   "metadata": {},
   "outputs": [],
   "source": [
    "# remove the missing data\n",
    "data_2018.dropna(subset = ['Corruption'], inplace = True)"
   ]
  },
  {
   "cell_type": "code",
   "execution_count": 41,
   "metadata": {},
   "outputs": [
    {
     "data": {
      "text/html": [
       "<div>\n",
       "<style scoped>\n",
       "    .dataframe tbody tr th:only-of-type {\n",
       "        vertical-align: middle;\n",
       "    }\n",
       "\n",
       "    .dataframe tbody tr th {\n",
       "        vertical-align: top;\n",
       "    }\n",
       "\n",
       "    .dataframe thead th {\n",
       "        text-align: right;\n",
       "    }\n",
       "</style>\n",
       "<table border=\"1\" class=\"dataframe\">\n",
       "  <thead>\n",
       "    <tr style=\"text-align: right;\">\n",
       "      <th></th>\n",
       "      <th>Happiness Rank</th>\n",
       "      <th>Country</th>\n",
       "      <th>Happiness Score</th>\n",
       "      <th>GDP</th>\n",
       "      <th>Social support</th>\n",
       "      <th>Life Expectancy</th>\n",
       "      <th>Freedom</th>\n",
       "      <th>Generosity</th>\n",
       "      <th>Corruption</th>\n",
       "    </tr>\n",
       "  </thead>\n",
       "  <tbody>\n",
       "  </tbody>\n",
       "</table>\n",
       "</div>"
      ],
      "text/plain": [
       "Empty DataFrame\n",
       "Columns: [Happiness Rank, Country, Happiness Score, GDP, Social support, Life Expectancy, Freedom, Generosity, Corruption]\n",
       "Index: []"
      ]
     },
     "execution_count": 41,
     "metadata": {},
     "output_type": "execute_result"
    }
   ],
   "source": [
    "# checking for duplicates\n",
    "data_2018[data_2018.duplicated()]"
   ]
  },
  {
   "cell_type": "code",
   "execution_count": 42,
   "metadata": {},
   "outputs": [],
   "source": [
    "# checking for mixed-types\n",
    "for col in data_2018.columns.tolist():\n",
    "    weird = (data_2018[[col]].applymap(type) != data_2018[[col]].iloc[0].apply(type)).any(axis=1)\n",
    "    if len(data_2018[weird]) > 0:\n",
    "        print(col)"
   ]
  },
  {
   "cell_type": "markdown",
   "metadata": {},
   "source": [
    "### 2019 Data"
   ]
  },
  {
   "cell_type": "code",
   "execution_count": 43,
   "metadata": {},
   "outputs": [
    {
     "data": {
      "text/plain": [
       "Happiness Rank     0\n",
       "Country            0\n",
       "Happiness Score    0\n",
       "GDP                0\n",
       "Social support     0\n",
       "Life Expectancy    0\n",
       "Freedom            0\n",
       "Generosity         0\n",
       "Corruption         0\n",
       "dtype: int64"
      ]
     },
     "execution_count": 43,
     "metadata": {},
     "output_type": "execute_result"
    }
   ],
   "source": [
    "# checking for missing data\n",
    "data_2019.isnull().sum()"
   ]
  },
  {
   "cell_type": "code",
   "execution_count": 44,
   "metadata": {},
   "outputs": [
    {
     "data": {
      "text/html": [
       "<div>\n",
       "<style scoped>\n",
       "    .dataframe tbody tr th:only-of-type {\n",
       "        vertical-align: middle;\n",
       "    }\n",
       "\n",
       "    .dataframe tbody tr th {\n",
       "        vertical-align: top;\n",
       "    }\n",
       "\n",
       "    .dataframe thead th {\n",
       "        text-align: right;\n",
       "    }\n",
       "</style>\n",
       "<table border=\"1\" class=\"dataframe\">\n",
       "  <thead>\n",
       "    <tr style=\"text-align: right;\">\n",
       "      <th></th>\n",
       "      <th>Happiness Rank</th>\n",
       "      <th>Country</th>\n",
       "      <th>Happiness Score</th>\n",
       "      <th>GDP</th>\n",
       "      <th>Social support</th>\n",
       "      <th>Life Expectancy</th>\n",
       "      <th>Freedom</th>\n",
       "      <th>Generosity</th>\n",
       "      <th>Corruption</th>\n",
       "    </tr>\n",
       "  </thead>\n",
       "  <tbody>\n",
       "  </tbody>\n",
       "</table>\n",
       "</div>"
      ],
      "text/plain": [
       "Empty DataFrame\n",
       "Columns: [Happiness Rank, Country, Happiness Score, GDP, Social support, Life Expectancy, Freedom, Generosity, Corruption]\n",
       "Index: []"
      ]
     },
     "execution_count": 44,
     "metadata": {},
     "output_type": "execute_result"
    }
   ],
   "source": [
    "# checking for duplicates\n",
    "data_2019[data_2019.duplicated()]"
   ]
  },
  {
   "cell_type": "code",
   "execution_count": 45,
   "metadata": {},
   "outputs": [],
   "source": [
    "# checking for mixed-types\n",
    "for col in data_2019.columns.tolist():\n",
    "    weird = (data_2019[[col]].applymap(type) != data_2019[[col]].iloc[0].apply(type)).any(axis=1)\n",
    "    if len(data_2019[weird]) > 0:\n",
    "        print(col)"
   ]
  },
  {
   "cell_type": "markdown",
   "metadata": {},
   "source": [
    "## 04. Append Datasets\n",
    "### Before appending, each dataset must be edited to:\n",
    "### 1. Match the number of columns by removing unwanted columns\n",
    "### 2. Match the order of the columns by reordering them\n",
    "### 3. Add the year column \n",
    "### 4. Confirm the data types"
   ]
  },
  {
   "cell_type": "markdown",
   "metadata": {},
   "source": [
    "### 2015 Data"
   ]
  },
  {
   "cell_type": "code",
   "execution_count": 46,
   "metadata": {},
   "outputs": [],
   "source": [
    "data_2015.drop(columns = ['Region','Standard Error','Family','Dystopia Residual'], inplace = True)\n",
    "data_2015 = data_2015[['Country','Happiness Rank','Happiness Score','GDP','Life Expectancy','Freedom','Generosity','Corruption']]\n",
    "data_2015['Year'] = 2015"
   ]
  },
  {
   "cell_type": "code",
   "execution_count": 47,
   "metadata": {},
   "outputs": [
    {
     "data": {
      "text/html": [
       "<div>\n",
       "<style scoped>\n",
       "    .dataframe tbody tr th:only-of-type {\n",
       "        vertical-align: middle;\n",
       "    }\n",
       "\n",
       "    .dataframe tbody tr th {\n",
       "        vertical-align: top;\n",
       "    }\n",
       "\n",
       "    .dataframe thead th {\n",
       "        text-align: right;\n",
       "    }\n",
       "</style>\n",
       "<table border=\"1\" class=\"dataframe\">\n",
       "  <thead>\n",
       "    <tr style=\"text-align: right;\">\n",
       "      <th></th>\n",
       "      <th>Country</th>\n",
       "      <th>Happiness Rank</th>\n",
       "      <th>Happiness Score</th>\n",
       "      <th>GDP</th>\n",
       "      <th>Life Expectancy</th>\n",
       "      <th>Freedom</th>\n",
       "      <th>Generosity</th>\n",
       "      <th>Corruption</th>\n",
       "      <th>Year</th>\n",
       "    </tr>\n",
       "  </thead>\n",
       "  <tbody>\n",
       "    <tr>\n",
       "      <th>0</th>\n",
       "      <td>Switzerland</td>\n",
       "      <td>1</td>\n",
       "      <td>7.587</td>\n",
       "      <td>1.39651</td>\n",
       "      <td>0.94143</td>\n",
       "      <td>0.66557</td>\n",
       "      <td>0.29678</td>\n",
       "      <td>0.41978</td>\n",
       "      <td>2015</td>\n",
       "    </tr>\n",
       "    <tr>\n",
       "      <th>1</th>\n",
       "      <td>Iceland</td>\n",
       "      <td>2</td>\n",
       "      <td>7.561</td>\n",
       "      <td>1.30232</td>\n",
       "      <td>0.94784</td>\n",
       "      <td>0.62877</td>\n",
       "      <td>0.43630</td>\n",
       "      <td>0.14145</td>\n",
       "      <td>2015</td>\n",
       "    </tr>\n",
       "    <tr>\n",
       "      <th>2</th>\n",
       "      <td>Denmark</td>\n",
       "      <td>3</td>\n",
       "      <td>7.527</td>\n",
       "      <td>1.32548</td>\n",
       "      <td>0.87464</td>\n",
       "      <td>0.64938</td>\n",
       "      <td>0.34139</td>\n",
       "      <td>0.48357</td>\n",
       "      <td>2015</td>\n",
       "    </tr>\n",
       "    <tr>\n",
       "      <th>3</th>\n",
       "      <td>Norway</td>\n",
       "      <td>4</td>\n",
       "      <td>7.522</td>\n",
       "      <td>1.45900</td>\n",
       "      <td>0.88521</td>\n",
       "      <td>0.66973</td>\n",
       "      <td>0.34699</td>\n",
       "      <td>0.36503</td>\n",
       "      <td>2015</td>\n",
       "    </tr>\n",
       "    <tr>\n",
       "      <th>4</th>\n",
       "      <td>Canada</td>\n",
       "      <td>5</td>\n",
       "      <td>7.427</td>\n",
       "      <td>1.32629</td>\n",
       "      <td>0.90563</td>\n",
       "      <td>0.63297</td>\n",
       "      <td>0.45811</td>\n",
       "      <td>0.32957</td>\n",
       "      <td>2015</td>\n",
       "    </tr>\n",
       "  </tbody>\n",
       "</table>\n",
       "</div>"
      ],
      "text/plain": [
       "       Country  Happiness Rank  Happiness Score      GDP  Life Expectancy  \\\n",
       "0  Switzerland               1            7.587  1.39651          0.94143   \n",
       "1      Iceland               2            7.561  1.30232          0.94784   \n",
       "2      Denmark               3            7.527  1.32548          0.87464   \n",
       "3       Norway               4            7.522  1.45900          0.88521   \n",
       "4       Canada               5            7.427  1.32629          0.90563   \n",
       "\n",
       "   Freedom  Generosity  Corruption  Year  \n",
       "0  0.66557     0.29678     0.41978  2015  \n",
       "1  0.62877     0.43630     0.14145  2015  \n",
       "2  0.64938     0.34139     0.48357  2015  \n",
       "3  0.66973     0.34699     0.36503  2015  \n",
       "4  0.63297     0.45811     0.32957  2015  "
      ]
     },
     "execution_count": 47,
     "metadata": {},
     "output_type": "execute_result"
    }
   ],
   "source": [
    "data_2015.head()"
   ]
  },
  {
   "cell_type": "code",
   "execution_count": 48,
   "metadata": {},
   "outputs": [
    {
     "data": {
      "text/plain": [
       "Country             object\n",
       "Happiness Rank       int64\n",
       "Happiness Score    float64\n",
       "GDP                float64\n",
       "Life Expectancy    float64\n",
       "Freedom            float64\n",
       "Generosity         float64\n",
       "Corruption         float64\n",
       "Year                 int64\n",
       "dtype: object"
      ]
     },
     "execution_count": 48,
     "metadata": {},
     "output_type": "execute_result"
    }
   ],
   "source": [
    "data_2015.dtypes"
   ]
  },
  {
   "cell_type": "code",
   "execution_count": 65,
   "metadata": {},
   "outputs": [
    {
     "data": {
      "text/plain": [
       "(158, 9)"
      ]
     },
     "execution_count": 65,
     "metadata": {},
     "output_type": "execute_result"
    }
   ],
   "source": [
    "data_2015.shape"
   ]
  },
  {
   "cell_type": "markdown",
   "metadata": {},
   "source": [
    "### 2016 Data"
   ]
  },
  {
   "cell_type": "code",
   "execution_count": 49,
   "metadata": {},
   "outputs": [],
   "source": [
    "data_2016.drop(columns = ['Region','Lower Confidence Interval','Upper Confidence Interval','Family','Dystopia Residual'], inplace = True)\n",
    "data_2016 = data_2016[['Country','Happiness Rank','Happiness Score','GDP','Life Expectancy','Freedom','Generosity','Corruption']]\n",
    "data_2016['Year'] = 2016"
   ]
  },
  {
   "cell_type": "code",
   "execution_count": 50,
   "metadata": {},
   "outputs": [
    {
     "data": {
      "text/html": [
       "<div>\n",
       "<style scoped>\n",
       "    .dataframe tbody tr th:only-of-type {\n",
       "        vertical-align: middle;\n",
       "    }\n",
       "\n",
       "    .dataframe tbody tr th {\n",
       "        vertical-align: top;\n",
       "    }\n",
       "\n",
       "    .dataframe thead th {\n",
       "        text-align: right;\n",
       "    }\n",
       "</style>\n",
       "<table border=\"1\" class=\"dataframe\">\n",
       "  <thead>\n",
       "    <tr style=\"text-align: right;\">\n",
       "      <th></th>\n",
       "      <th>Country</th>\n",
       "      <th>Happiness Rank</th>\n",
       "      <th>Happiness Score</th>\n",
       "      <th>GDP</th>\n",
       "      <th>Life Expectancy</th>\n",
       "      <th>Freedom</th>\n",
       "      <th>Generosity</th>\n",
       "      <th>Corruption</th>\n",
       "      <th>Year</th>\n",
       "    </tr>\n",
       "  </thead>\n",
       "  <tbody>\n",
       "    <tr>\n",
       "      <th>0</th>\n",
       "      <td>Denmark</td>\n",
       "      <td>1</td>\n",
       "      <td>7.526</td>\n",
       "      <td>1.44178</td>\n",
       "      <td>0.79504</td>\n",
       "      <td>0.57941</td>\n",
       "      <td>0.36171</td>\n",
       "      <td>0.44453</td>\n",
       "      <td>2016</td>\n",
       "    </tr>\n",
       "    <tr>\n",
       "      <th>1</th>\n",
       "      <td>Switzerland</td>\n",
       "      <td>2</td>\n",
       "      <td>7.509</td>\n",
       "      <td>1.52733</td>\n",
       "      <td>0.86303</td>\n",
       "      <td>0.58557</td>\n",
       "      <td>0.28083</td>\n",
       "      <td>0.41203</td>\n",
       "      <td>2016</td>\n",
       "    </tr>\n",
       "    <tr>\n",
       "      <th>2</th>\n",
       "      <td>Iceland</td>\n",
       "      <td>3</td>\n",
       "      <td>7.501</td>\n",
       "      <td>1.42666</td>\n",
       "      <td>0.86733</td>\n",
       "      <td>0.56624</td>\n",
       "      <td>0.47678</td>\n",
       "      <td>0.14975</td>\n",
       "      <td>2016</td>\n",
       "    </tr>\n",
       "    <tr>\n",
       "      <th>3</th>\n",
       "      <td>Norway</td>\n",
       "      <td>4</td>\n",
       "      <td>7.498</td>\n",
       "      <td>1.57744</td>\n",
       "      <td>0.79579</td>\n",
       "      <td>0.59609</td>\n",
       "      <td>0.37895</td>\n",
       "      <td>0.35776</td>\n",
       "      <td>2016</td>\n",
       "    </tr>\n",
       "    <tr>\n",
       "      <th>4</th>\n",
       "      <td>Finland</td>\n",
       "      <td>5</td>\n",
       "      <td>7.413</td>\n",
       "      <td>1.40598</td>\n",
       "      <td>0.81091</td>\n",
       "      <td>0.57104</td>\n",
       "      <td>0.25492</td>\n",
       "      <td>0.41004</td>\n",
       "      <td>2016</td>\n",
       "    </tr>\n",
       "  </tbody>\n",
       "</table>\n",
       "</div>"
      ],
      "text/plain": [
       "       Country  Happiness Rank  Happiness Score      GDP  Life Expectancy  \\\n",
       "0      Denmark               1            7.526  1.44178          0.79504   \n",
       "1  Switzerland               2            7.509  1.52733          0.86303   \n",
       "2      Iceland               3            7.501  1.42666          0.86733   \n",
       "3       Norway               4            7.498  1.57744          0.79579   \n",
       "4      Finland               5            7.413  1.40598          0.81091   \n",
       "\n",
       "   Freedom  Generosity  Corruption  Year  \n",
       "0  0.57941     0.36171     0.44453  2016  \n",
       "1  0.58557     0.28083     0.41203  2016  \n",
       "2  0.56624     0.47678     0.14975  2016  \n",
       "3  0.59609     0.37895     0.35776  2016  \n",
       "4  0.57104     0.25492     0.41004  2016  "
      ]
     },
     "execution_count": 50,
     "metadata": {},
     "output_type": "execute_result"
    }
   ],
   "source": [
    "data_2016.head()"
   ]
  },
  {
   "cell_type": "code",
   "execution_count": 51,
   "metadata": {},
   "outputs": [
    {
     "data": {
      "text/plain": [
       "Country             object\n",
       "Happiness Rank       int64\n",
       "Happiness Score    float64\n",
       "GDP                float64\n",
       "Life Expectancy    float64\n",
       "Freedom            float64\n",
       "Generosity         float64\n",
       "Corruption         float64\n",
       "Year                 int64\n",
       "dtype: object"
      ]
     },
     "execution_count": 51,
     "metadata": {},
     "output_type": "execute_result"
    }
   ],
   "source": [
    "data_2016.dtypes"
   ]
  },
  {
   "cell_type": "code",
   "execution_count": 66,
   "metadata": {},
   "outputs": [
    {
     "data": {
      "text/plain": [
       "(157, 9)"
      ]
     },
     "execution_count": 66,
     "metadata": {},
     "output_type": "execute_result"
    }
   ],
   "source": [
    "data_2016.shape"
   ]
  },
  {
   "cell_type": "markdown",
   "metadata": {},
   "source": [
    "### 2017 Data"
   ]
  },
  {
   "cell_type": "code",
   "execution_count": 52,
   "metadata": {},
   "outputs": [],
   "source": [
    "data_2017.drop(columns = ['Lower Confidence Interval','Upper Confidence Interval','Family','Dystopia Residual'], inplace = True)\n",
    "data_2017 = data_2017[['Country','Happiness Rank','Happiness Score','GDP','Life Expectancy','Freedom','Generosity','Corruption']]\n",
    "data_2017['Year'] = 2017"
   ]
  },
  {
   "cell_type": "code",
   "execution_count": 53,
   "metadata": {},
   "outputs": [
    {
     "data": {
      "text/html": [
       "<div>\n",
       "<style scoped>\n",
       "    .dataframe tbody tr th:only-of-type {\n",
       "        vertical-align: middle;\n",
       "    }\n",
       "\n",
       "    .dataframe tbody tr th {\n",
       "        vertical-align: top;\n",
       "    }\n",
       "\n",
       "    .dataframe thead th {\n",
       "        text-align: right;\n",
       "    }\n",
       "</style>\n",
       "<table border=\"1\" class=\"dataframe\">\n",
       "  <thead>\n",
       "    <tr style=\"text-align: right;\">\n",
       "      <th></th>\n",
       "      <th>Country</th>\n",
       "      <th>Happiness Rank</th>\n",
       "      <th>Happiness Score</th>\n",
       "      <th>GDP</th>\n",
       "      <th>Life Expectancy</th>\n",
       "      <th>Freedom</th>\n",
       "      <th>Generosity</th>\n",
       "      <th>Corruption</th>\n",
       "      <th>Year</th>\n",
       "    </tr>\n",
       "  </thead>\n",
       "  <tbody>\n",
       "    <tr>\n",
       "      <th>0</th>\n",
       "      <td>Norway</td>\n",
       "      <td>1</td>\n",
       "      <td>7.537</td>\n",
       "      <td>1.616463</td>\n",
       "      <td>0.796667</td>\n",
       "      <td>0.635423</td>\n",
       "      <td>0.362012</td>\n",
       "      <td>0.315964</td>\n",
       "      <td>2017</td>\n",
       "    </tr>\n",
       "    <tr>\n",
       "      <th>1</th>\n",
       "      <td>Denmark</td>\n",
       "      <td>2</td>\n",
       "      <td>7.522</td>\n",
       "      <td>1.482383</td>\n",
       "      <td>0.792566</td>\n",
       "      <td>0.626007</td>\n",
       "      <td>0.355280</td>\n",
       "      <td>0.400770</td>\n",
       "      <td>2017</td>\n",
       "    </tr>\n",
       "    <tr>\n",
       "      <th>2</th>\n",
       "      <td>Iceland</td>\n",
       "      <td>3</td>\n",
       "      <td>7.504</td>\n",
       "      <td>1.480633</td>\n",
       "      <td>0.833552</td>\n",
       "      <td>0.627163</td>\n",
       "      <td>0.475540</td>\n",
       "      <td>0.153527</td>\n",
       "      <td>2017</td>\n",
       "    </tr>\n",
       "    <tr>\n",
       "      <th>3</th>\n",
       "      <td>Switzerland</td>\n",
       "      <td>4</td>\n",
       "      <td>7.494</td>\n",
       "      <td>1.564980</td>\n",
       "      <td>0.858131</td>\n",
       "      <td>0.620071</td>\n",
       "      <td>0.290549</td>\n",
       "      <td>0.367007</td>\n",
       "      <td>2017</td>\n",
       "    </tr>\n",
       "    <tr>\n",
       "      <th>4</th>\n",
       "      <td>Finland</td>\n",
       "      <td>5</td>\n",
       "      <td>7.469</td>\n",
       "      <td>1.443572</td>\n",
       "      <td>0.809158</td>\n",
       "      <td>0.617951</td>\n",
       "      <td>0.245483</td>\n",
       "      <td>0.382612</td>\n",
       "      <td>2017</td>\n",
       "    </tr>\n",
       "  </tbody>\n",
       "</table>\n",
       "</div>"
      ],
      "text/plain": [
       "       Country  Happiness Rank  Happiness Score       GDP  Life Expectancy  \\\n",
       "0       Norway               1            7.537  1.616463         0.796667   \n",
       "1      Denmark               2            7.522  1.482383         0.792566   \n",
       "2      Iceland               3            7.504  1.480633         0.833552   \n",
       "3  Switzerland               4            7.494  1.564980         0.858131   \n",
       "4      Finland               5            7.469  1.443572         0.809158   \n",
       "\n",
       "    Freedom  Generosity  Corruption  Year  \n",
       "0  0.635423    0.362012    0.315964  2017  \n",
       "1  0.626007    0.355280    0.400770  2017  \n",
       "2  0.627163    0.475540    0.153527  2017  \n",
       "3  0.620071    0.290549    0.367007  2017  \n",
       "4  0.617951    0.245483    0.382612  2017  "
      ]
     },
     "execution_count": 53,
     "metadata": {},
     "output_type": "execute_result"
    }
   ],
   "source": [
    "data_2017.head()"
   ]
  },
  {
   "cell_type": "code",
   "execution_count": 54,
   "metadata": {},
   "outputs": [
    {
     "data": {
      "text/plain": [
       "Country             object\n",
       "Happiness Rank       int64\n",
       "Happiness Score    float64\n",
       "GDP                float64\n",
       "Life Expectancy    float64\n",
       "Freedom            float64\n",
       "Generosity         float64\n",
       "Corruption         float64\n",
       "Year                 int64\n",
       "dtype: object"
      ]
     },
     "execution_count": 54,
     "metadata": {},
     "output_type": "execute_result"
    }
   ],
   "source": [
    "data_2017.dtypes"
   ]
  },
  {
   "cell_type": "code",
   "execution_count": 67,
   "metadata": {},
   "outputs": [
    {
     "data": {
      "text/plain": [
       "(155, 9)"
      ]
     },
     "execution_count": 67,
     "metadata": {},
     "output_type": "execute_result"
    }
   ],
   "source": [
    "data_2017.shape"
   ]
  },
  {
   "cell_type": "markdown",
   "metadata": {},
   "source": [
    "### 2018 Data"
   ]
  },
  {
   "cell_type": "code",
   "execution_count": 55,
   "metadata": {},
   "outputs": [],
   "source": [
    "data_2018.drop(columns = ['Social support'], inplace = True)\n",
    "data_2018 = data_2018[['Country','Happiness Rank','Happiness Score','GDP','Life Expectancy','Freedom','Generosity','Corruption']]\n",
    "data_2018['Year'] = 2018"
   ]
  },
  {
   "cell_type": "code",
   "execution_count": 56,
   "metadata": {},
   "outputs": [
    {
     "data": {
      "text/html": [
       "<div>\n",
       "<style scoped>\n",
       "    .dataframe tbody tr th:only-of-type {\n",
       "        vertical-align: middle;\n",
       "    }\n",
       "\n",
       "    .dataframe tbody tr th {\n",
       "        vertical-align: top;\n",
       "    }\n",
       "\n",
       "    .dataframe thead th {\n",
       "        text-align: right;\n",
       "    }\n",
       "</style>\n",
       "<table border=\"1\" class=\"dataframe\">\n",
       "  <thead>\n",
       "    <tr style=\"text-align: right;\">\n",
       "      <th></th>\n",
       "      <th>Country</th>\n",
       "      <th>Happiness Rank</th>\n",
       "      <th>Happiness Score</th>\n",
       "      <th>GDP</th>\n",
       "      <th>Life Expectancy</th>\n",
       "      <th>Freedom</th>\n",
       "      <th>Generosity</th>\n",
       "      <th>Corruption</th>\n",
       "      <th>Year</th>\n",
       "    </tr>\n",
       "  </thead>\n",
       "  <tbody>\n",
       "    <tr>\n",
       "      <th>0</th>\n",
       "      <td>Finland</td>\n",
       "      <td>1</td>\n",
       "      <td>7.632</td>\n",
       "      <td>1.305</td>\n",
       "      <td>0.874</td>\n",
       "      <td>0.681</td>\n",
       "      <td>0.202</td>\n",
       "      <td>0.393</td>\n",
       "      <td>2018</td>\n",
       "    </tr>\n",
       "    <tr>\n",
       "      <th>1</th>\n",
       "      <td>Norway</td>\n",
       "      <td>2</td>\n",
       "      <td>7.594</td>\n",
       "      <td>1.456</td>\n",
       "      <td>0.861</td>\n",
       "      <td>0.686</td>\n",
       "      <td>0.286</td>\n",
       "      <td>0.340</td>\n",
       "      <td>2018</td>\n",
       "    </tr>\n",
       "    <tr>\n",
       "      <th>2</th>\n",
       "      <td>Denmark</td>\n",
       "      <td>3</td>\n",
       "      <td>7.555</td>\n",
       "      <td>1.351</td>\n",
       "      <td>0.868</td>\n",
       "      <td>0.683</td>\n",
       "      <td>0.284</td>\n",
       "      <td>0.408</td>\n",
       "      <td>2018</td>\n",
       "    </tr>\n",
       "    <tr>\n",
       "      <th>3</th>\n",
       "      <td>Iceland</td>\n",
       "      <td>4</td>\n",
       "      <td>7.495</td>\n",
       "      <td>1.343</td>\n",
       "      <td>0.914</td>\n",
       "      <td>0.677</td>\n",
       "      <td>0.353</td>\n",
       "      <td>0.138</td>\n",
       "      <td>2018</td>\n",
       "    </tr>\n",
       "    <tr>\n",
       "      <th>4</th>\n",
       "      <td>Switzerland</td>\n",
       "      <td>5</td>\n",
       "      <td>7.487</td>\n",
       "      <td>1.420</td>\n",
       "      <td>0.927</td>\n",
       "      <td>0.660</td>\n",
       "      <td>0.256</td>\n",
       "      <td>0.357</td>\n",
       "      <td>2018</td>\n",
       "    </tr>\n",
       "  </tbody>\n",
       "</table>\n",
       "</div>"
      ],
      "text/plain": [
       "       Country  Happiness Rank  Happiness Score    GDP  Life Expectancy  \\\n",
       "0      Finland               1            7.632  1.305            0.874   \n",
       "1       Norway               2            7.594  1.456            0.861   \n",
       "2      Denmark               3            7.555  1.351            0.868   \n",
       "3      Iceland               4            7.495  1.343            0.914   \n",
       "4  Switzerland               5            7.487  1.420            0.927   \n",
       "\n",
       "   Freedom  Generosity  Corruption  Year  \n",
       "0    0.681       0.202       0.393  2018  \n",
       "1    0.686       0.286       0.340  2018  \n",
       "2    0.683       0.284       0.408  2018  \n",
       "3    0.677       0.353       0.138  2018  \n",
       "4    0.660       0.256       0.357  2018  "
      ]
     },
     "execution_count": 56,
     "metadata": {},
     "output_type": "execute_result"
    }
   ],
   "source": [
    "data_2018.head()"
   ]
  },
  {
   "cell_type": "code",
   "execution_count": 57,
   "metadata": {},
   "outputs": [
    {
     "data": {
      "text/plain": [
       "Country             object\n",
       "Happiness Rank       int64\n",
       "Happiness Score    float64\n",
       "GDP                float64\n",
       "Life Expectancy    float64\n",
       "Freedom            float64\n",
       "Generosity         float64\n",
       "Corruption         float64\n",
       "Year                 int64\n",
       "dtype: object"
      ]
     },
     "execution_count": 57,
     "metadata": {},
     "output_type": "execute_result"
    }
   ],
   "source": [
    "data_2018.dtypes"
   ]
  },
  {
   "cell_type": "code",
   "execution_count": 68,
   "metadata": {},
   "outputs": [
    {
     "data": {
      "text/plain": [
       "(155, 9)"
      ]
     },
     "execution_count": 68,
     "metadata": {},
     "output_type": "execute_result"
    }
   ],
   "source": [
    "data_2018.shape"
   ]
  },
  {
   "cell_type": "markdown",
   "metadata": {},
   "source": [
    "### 2019 Data"
   ]
  },
  {
   "cell_type": "code",
   "execution_count": 58,
   "metadata": {},
   "outputs": [],
   "source": [
    "data_2019.drop(columns = ['Social support'], inplace = True)\n",
    "data_2019 = data_2019[['Country','Happiness Rank','Happiness Score','GDP','Life Expectancy','Freedom','Generosity','Corruption']]\n",
    "data_2019['Year'] = 2019"
   ]
  },
  {
   "cell_type": "code",
   "execution_count": 59,
   "metadata": {},
   "outputs": [
    {
     "data": {
      "text/html": [
       "<div>\n",
       "<style scoped>\n",
       "    .dataframe tbody tr th:only-of-type {\n",
       "        vertical-align: middle;\n",
       "    }\n",
       "\n",
       "    .dataframe tbody tr th {\n",
       "        vertical-align: top;\n",
       "    }\n",
       "\n",
       "    .dataframe thead th {\n",
       "        text-align: right;\n",
       "    }\n",
       "</style>\n",
       "<table border=\"1\" class=\"dataframe\">\n",
       "  <thead>\n",
       "    <tr style=\"text-align: right;\">\n",
       "      <th></th>\n",
       "      <th>Country</th>\n",
       "      <th>Happiness Rank</th>\n",
       "      <th>Happiness Score</th>\n",
       "      <th>GDP</th>\n",
       "      <th>Life Expectancy</th>\n",
       "      <th>Freedom</th>\n",
       "      <th>Generosity</th>\n",
       "      <th>Corruption</th>\n",
       "      <th>Year</th>\n",
       "    </tr>\n",
       "  </thead>\n",
       "  <tbody>\n",
       "    <tr>\n",
       "      <th>0</th>\n",
       "      <td>Finland</td>\n",
       "      <td>1</td>\n",
       "      <td>7.769</td>\n",
       "      <td>1.340</td>\n",
       "      <td>0.986</td>\n",
       "      <td>0.596</td>\n",
       "      <td>0.153</td>\n",
       "      <td>0.393</td>\n",
       "      <td>2019</td>\n",
       "    </tr>\n",
       "    <tr>\n",
       "      <th>1</th>\n",
       "      <td>Denmark</td>\n",
       "      <td>2</td>\n",
       "      <td>7.600</td>\n",
       "      <td>1.383</td>\n",
       "      <td>0.996</td>\n",
       "      <td>0.592</td>\n",
       "      <td>0.252</td>\n",
       "      <td>0.410</td>\n",
       "      <td>2019</td>\n",
       "    </tr>\n",
       "    <tr>\n",
       "      <th>2</th>\n",
       "      <td>Norway</td>\n",
       "      <td>3</td>\n",
       "      <td>7.554</td>\n",
       "      <td>1.488</td>\n",
       "      <td>1.028</td>\n",
       "      <td>0.603</td>\n",
       "      <td>0.271</td>\n",
       "      <td>0.341</td>\n",
       "      <td>2019</td>\n",
       "    </tr>\n",
       "    <tr>\n",
       "      <th>3</th>\n",
       "      <td>Iceland</td>\n",
       "      <td>4</td>\n",
       "      <td>7.494</td>\n",
       "      <td>1.380</td>\n",
       "      <td>1.026</td>\n",
       "      <td>0.591</td>\n",
       "      <td>0.354</td>\n",
       "      <td>0.118</td>\n",
       "      <td>2019</td>\n",
       "    </tr>\n",
       "    <tr>\n",
       "      <th>4</th>\n",
       "      <td>Netherlands</td>\n",
       "      <td>5</td>\n",
       "      <td>7.488</td>\n",
       "      <td>1.396</td>\n",
       "      <td>0.999</td>\n",
       "      <td>0.557</td>\n",
       "      <td>0.322</td>\n",
       "      <td>0.298</td>\n",
       "      <td>2019</td>\n",
       "    </tr>\n",
       "  </tbody>\n",
       "</table>\n",
       "</div>"
      ],
      "text/plain": [
       "       Country  Happiness Rank  Happiness Score    GDP  Life Expectancy  \\\n",
       "0      Finland               1            7.769  1.340            0.986   \n",
       "1      Denmark               2            7.600  1.383            0.996   \n",
       "2       Norway               3            7.554  1.488            1.028   \n",
       "3      Iceland               4            7.494  1.380            1.026   \n",
       "4  Netherlands               5            7.488  1.396            0.999   \n",
       "\n",
       "   Freedom  Generosity  Corruption  Year  \n",
       "0    0.596       0.153       0.393  2019  \n",
       "1    0.592       0.252       0.410  2019  \n",
       "2    0.603       0.271       0.341  2019  \n",
       "3    0.591       0.354       0.118  2019  \n",
       "4    0.557       0.322       0.298  2019  "
      ]
     },
     "execution_count": 59,
     "metadata": {},
     "output_type": "execute_result"
    }
   ],
   "source": [
    "data_2019.head()"
   ]
  },
  {
   "cell_type": "code",
   "execution_count": 60,
   "metadata": {},
   "outputs": [
    {
     "data": {
      "text/plain": [
       "Country             object\n",
       "Happiness Rank       int64\n",
       "Happiness Score    float64\n",
       "GDP                float64\n",
       "Life Expectancy    float64\n",
       "Freedom            float64\n",
       "Generosity         float64\n",
       "Corruption         float64\n",
       "Year                 int64\n",
       "dtype: object"
      ]
     },
     "execution_count": 60,
     "metadata": {},
     "output_type": "execute_result"
    }
   ],
   "source": [
    "data_2019.dtypes"
   ]
  },
  {
   "cell_type": "code",
   "execution_count": 69,
   "metadata": {},
   "outputs": [
    {
     "data": {
      "text/plain": [
       "(156, 9)"
      ]
     },
     "execution_count": 69,
     "metadata": {},
     "output_type": "execute_result"
    }
   ],
   "source": [
    "data_2019.shape"
   ]
  },
  {
   "cell_type": "markdown",
   "metadata": {},
   "source": [
    "### Appending"
   ]
  },
  {
   "cell_type": "code",
   "execution_count": 61,
   "metadata": {},
   "outputs": [
    {
     "name": "stderr",
     "output_type": "stream",
     "text": [
      "C:\\Users\\thang\\AppData\\Local\\Temp\\ipykernel_14656\\3512606278.py:1: FutureWarning: The frame.append method is deprecated and will be removed from pandas in a future version. Use pandas.concat instead.\n",
      "  combined_data = data_2015.append(data_2016)\n",
      "C:\\Users\\thang\\AppData\\Local\\Temp\\ipykernel_14656\\3512606278.py:2: FutureWarning: The frame.append method is deprecated and will be removed from pandas in a future version. Use pandas.concat instead.\n",
      "  combined_data = combined_data.append(data_2017)\n",
      "C:\\Users\\thang\\AppData\\Local\\Temp\\ipykernel_14656\\3512606278.py:3: FutureWarning: The frame.append method is deprecated and will be removed from pandas in a future version. Use pandas.concat instead.\n",
      "  combined_data = combined_data.append(data_2018)\n",
      "C:\\Users\\thang\\AppData\\Local\\Temp\\ipykernel_14656\\3512606278.py:4: FutureWarning: The frame.append method is deprecated and will be removed from pandas in a future version. Use pandas.concat instead.\n",
      "  combined_data = combined_data.append(data_2019)\n"
     ]
    }
   ],
   "source": [
    "combined_data = data_2015.append(data_2016)\n",
    "combined_data = combined_data.append(data_2017)\n",
    "combined_data = combined_data.append(data_2018)\n",
    "combined_data = combined_data.append(data_2019)"
   ]
  },
  {
   "cell_type": "code",
   "execution_count": 62,
   "metadata": {},
   "outputs": [
    {
     "data": {
      "text/html": [
       "<div>\n",
       "<style scoped>\n",
       "    .dataframe tbody tr th:only-of-type {\n",
       "        vertical-align: middle;\n",
       "    }\n",
       "\n",
       "    .dataframe tbody tr th {\n",
       "        vertical-align: top;\n",
       "    }\n",
       "\n",
       "    .dataframe thead th {\n",
       "        text-align: right;\n",
       "    }\n",
       "</style>\n",
       "<table border=\"1\" class=\"dataframe\">\n",
       "  <thead>\n",
       "    <tr style=\"text-align: right;\">\n",
       "      <th></th>\n",
       "      <th>Country</th>\n",
       "      <th>Happiness Rank</th>\n",
       "      <th>Happiness Score</th>\n",
       "      <th>GDP</th>\n",
       "      <th>Life Expectancy</th>\n",
       "      <th>Freedom</th>\n",
       "      <th>Generosity</th>\n",
       "      <th>Corruption</th>\n",
       "      <th>Year</th>\n",
       "    </tr>\n",
       "  </thead>\n",
       "  <tbody>\n",
       "    <tr>\n",
       "      <th>0</th>\n",
       "      <td>Switzerland</td>\n",
       "      <td>1</td>\n",
       "      <td>7.587</td>\n",
       "      <td>1.39651</td>\n",
       "      <td>0.94143</td>\n",
       "      <td>0.66557</td>\n",
       "      <td>0.29678</td>\n",
       "      <td>0.41978</td>\n",
       "      <td>2015</td>\n",
       "    </tr>\n",
       "    <tr>\n",
       "      <th>1</th>\n",
       "      <td>Iceland</td>\n",
       "      <td>2</td>\n",
       "      <td>7.561</td>\n",
       "      <td>1.30232</td>\n",
       "      <td>0.94784</td>\n",
       "      <td>0.62877</td>\n",
       "      <td>0.43630</td>\n",
       "      <td>0.14145</td>\n",
       "      <td>2015</td>\n",
       "    </tr>\n",
       "    <tr>\n",
       "      <th>2</th>\n",
       "      <td>Denmark</td>\n",
       "      <td>3</td>\n",
       "      <td>7.527</td>\n",
       "      <td>1.32548</td>\n",
       "      <td>0.87464</td>\n",
       "      <td>0.64938</td>\n",
       "      <td>0.34139</td>\n",
       "      <td>0.48357</td>\n",
       "      <td>2015</td>\n",
       "    </tr>\n",
       "    <tr>\n",
       "      <th>3</th>\n",
       "      <td>Norway</td>\n",
       "      <td>4</td>\n",
       "      <td>7.522</td>\n",
       "      <td>1.45900</td>\n",
       "      <td>0.88521</td>\n",
       "      <td>0.66973</td>\n",
       "      <td>0.34699</td>\n",
       "      <td>0.36503</td>\n",
       "      <td>2015</td>\n",
       "    </tr>\n",
       "    <tr>\n",
       "      <th>4</th>\n",
       "      <td>Canada</td>\n",
       "      <td>5</td>\n",
       "      <td>7.427</td>\n",
       "      <td>1.32629</td>\n",
       "      <td>0.90563</td>\n",
       "      <td>0.63297</td>\n",
       "      <td>0.45811</td>\n",
       "      <td>0.32957</td>\n",
       "      <td>2015</td>\n",
       "    </tr>\n",
       "  </tbody>\n",
       "</table>\n",
       "</div>"
      ],
      "text/plain": [
       "       Country  Happiness Rank  Happiness Score      GDP  Life Expectancy  \\\n",
       "0  Switzerland               1            7.587  1.39651          0.94143   \n",
       "1      Iceland               2            7.561  1.30232          0.94784   \n",
       "2      Denmark               3            7.527  1.32548          0.87464   \n",
       "3       Norway               4            7.522  1.45900          0.88521   \n",
       "4       Canada               5            7.427  1.32629          0.90563   \n",
       "\n",
       "   Freedom  Generosity  Corruption  Year  \n",
       "0  0.66557     0.29678     0.41978  2015  \n",
       "1  0.62877     0.43630     0.14145  2015  \n",
       "2  0.64938     0.34139     0.48357  2015  \n",
       "3  0.66973     0.34699     0.36503  2015  \n",
       "4  0.63297     0.45811     0.32957  2015  "
      ]
     },
     "execution_count": 62,
     "metadata": {},
     "output_type": "execute_result"
    }
   ],
   "source": [
    "combined_data.head()"
   ]
  },
  {
   "cell_type": "code",
   "execution_count": 64,
   "metadata": {},
   "outputs": [
    {
     "data": {
      "text/plain": [
       "(781, 9)"
      ]
     },
     "execution_count": 64,
     "metadata": {},
     "output_type": "execute_result"
    }
   ],
   "source": [
    "combined_data.shape"
   ]
  },
  {
   "cell_type": "markdown",
   "metadata": {},
   "source": [
    "## 05. Exporting"
   ]
  },
  {
   "cell_type": "code",
   "execution_count": 63,
   "metadata": {},
   "outputs": [],
   "source": [
    "combined_data.to_pickle(os.path.join(path, 'Edited', 'World_Happiness_Data.pkl'))"
   ]
  }
 ],
 "metadata": {
  "kernelspec": {
   "display_name": "Python 3.9.12 ('base')",
   "language": "python",
   "name": "python3"
  },
  "language_info": {
   "codemirror_mode": {
    "name": "ipython",
    "version": 3
   },
   "file_extension": ".py",
   "mimetype": "text/x-python",
   "name": "python",
   "nbconvert_exporter": "python",
   "pygments_lexer": "ipython3",
   "version": "3.9.12"
  },
  "orig_nbformat": 4,
  "vscode": {
   "interpreter": {
    "hash": "4f40fd0da1462727abaea7a43105f0db580b5821a80c85ae33f764eb2a94887e"
   }
  }
 },
 "nbformat": 4,
 "nbformat_minor": 2
}
